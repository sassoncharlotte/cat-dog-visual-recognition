{
 "cells": [
  {
   "cell_type": "markdown",
   "metadata": {},
   "source": [
    "# Recognizing dogs and cats\n",
    "\n",
    "The purpose of this laboratory is to build a first end to end reflex-based AI model to teach computers to [**understand images**](https://www.ted.com/talks/fei_fei_li_how_we_re_teaching_computers_to_understand_pictures).\n",
    "\n",
    "In particular, the objective of this lab is to write an AI application able to recognize cats and dogs on images. Your application will take an image as input and will be able to say wheter the image contains a dog or a cat. You will work with the data of the [**Dogs vs Cats**](https://www.kaggle.com/c/dogs-vs-cats) competition from Kaggle. This competition was launched in 2013 and the first place was obtained by [Pierre Sermanet](https://research.google.com/pubs/PierreSermanet.html), actually Research Scientist at Google Brain, by using the [Overfeat](http://cilvr.nyu.edu/doku.php?id=software:overfeat:start#overfeatobject_recognizer_feature_extractor) deep learning library he wrote during his PhD at New York University under the supervision of [Yann Le Cun](http://yann.lecun.com/), Director of AI Research at Facebook. He obtained $1.09%$ of classification errors. Try to do your best to approach this score!!!\n",
    "\n",
    "Two approaches will be used to adress this problem :\n",
    "1. A traditional pattern recognition model in which hand-crafted features are extracted from images and used to represent them and to train classifiers.\n",
    "2. A modern representation learning approach in which deep convolutional neural networks (CNN) are used to learn the image representations.\n",
    "\n",
    " \n",
    "\n",
    "##  Learning outcomes\n",
    "+ Building an end to end supervised machine learning pipeline : input data (training set) preparation, training (model learning), validation sets, cross-validation, hyper-parameter tuning, evaluation on the testing dataset.\n",
    "+ Getting familiar with deep learning for image classification : model building and training, transfer learning, fine-tuning.\n",
    "+ Getting familiar with some well-known librairies:\n",
    "    + Machine learning : Scikit-learn ([http://scikit-learn.org/stable/](http://scikit-learn.org/stable/))\n",
    "    + Deep learning: Keras ([https://keras.io/](https://keras.io/))\n",
    "    + Computer vision : Scikit-image ([http://scikit-image.org/](http://scikit-image.org/) or OpenCV ([http://opencv.org/](http://opencv.org/))\n",
    "    \n",
    "**The final objective of this laboratory is to be aware to the potential but also to the limitations of reflex-based AI approaches towards visual recognition tasks.**\n",
    "    "
   ]
  },
  {
   "cell_type": "markdown",
   "metadata": {
    "collapsed": true
   },
   "source": [
    "## Part 0 : Requirements\n",
    "A set of packages will be useful to handle the first part of this study case.\n",
    "\n",
    "    pip install -r requirements.txt"
   ]
  },
  {
   "cell_type": "code",
   "execution_count": 1,
   "metadata": {},
   "outputs": [
    {
     "name": "stdout",
     "output_type": "stream",
     "text": [
      "Collecting matplotlib==3.4.3\n",
      "  Downloading matplotlib-3.4.3-cp38-cp38-macosx_10_9_x86_64.whl (7.2 MB)\n",
      "\u001b[K     |████████████████████████████████| 7.2 MB 4.7 MB/s eta 0:00:01\n",
      "\u001b[?25hCollecting scipy==1.7.1\n",
      "  Downloading scipy-1.7.1-cp38-cp38-macosx_10_9_x86_64.whl (32.6 MB)\n",
      "\u001b[K     |████████████████████████████████| 32.6 MB 123 kB/s eta 0:00:01     |████████████▏                   | 12.4 MB 3.5 MB/s eta 0:00:06     |█████████████████████████▋      | 26.1 MB 3.9 MB/s eta 0:00:02\n",
      "\u001b[?25hCollecting scikit-image==0.18.3\n",
      "  Downloading scikit_image-0.18.3-cp38-cp38-macosx_10_9_x86_64.whl (13.0 MB)\n",
      "\u001b[K     |████████████████████████████████| 13.0 MB 6.1 MB/s eta 0:00:01\n",
      "\u001b[?25hCollecting scikit-learn==0.24.2\n",
      "  Downloading scikit_learn-0.24.2-cp38-cp38-macosx_10_13_x86_64.whl (7.2 MB)\n",
      "\u001b[K     |████████████████████████████████| 7.2 MB 2.5 MB/s eta 0:00:01\n",
      "\u001b[?25hCollecting tensorflow-cpu==2.6.0\n",
      "  Downloading tensorflow_cpu-2.6.0-cp38-cp38-macosx_10_11_x86_64.whl (199.0 MB)\n",
      "\u001b[K     |████████████████████████████████| 199.0 MB 46 kB/s  eta 0:00:012  |▊                               | 4.6 MB 2.5 MB/s eta 0:01:18     |█▍                              | 8.7 MB 127 kB/s eta 0:24:56     |█████                           | 30.5 MB 2.5 MB/s eta 0:01:07     |███████████▉                    | 73.8 MB 2.0 MB/s eta 0:01:03     |███████████████                 | 92.6 MB 865 kB/s eta 0:02:03     |███████████████                 | 92.7 MB 865 kB/s eta 0:02:03     |██████████████████              | 111.8 MB 1.8 MB/s eta 0:00:48     |████████████████████████        | 149.6 MB 137 kB/s eta 0:06:00     |████████████████████████▏       | 150.3 MB 3.9 MB/s eta 0:00:13     |██████████████████████████████  | 186.9 MB 3.1 MB/s eta 0:00:04\n",
      "\u001b[?25hCollecting keras==2.6.0\n",
      "  Downloading keras-2.6.0-py2.py3-none-any.whl (1.3 MB)\n",
      "\u001b[K     |████████████████████████████████| 1.3 MB 3.7 MB/s eta 0:00:01\n",
      "\u001b[?25hCollecting opencv-python==4.5.3.56\n",
      "  Downloading opencv_python-4.5.3.56-cp38-cp38-macosx_10_15_x86_64.whl (42.6 MB)\n",
      "\u001b[K     |████████████████████████████████| 42.6 MB 107 kB/s eta 0:00:01\n",
      "\u001b[?25hCollecting opencv-contrib-python==4.5.3.56\n",
      "  Downloading opencv_contrib_python-4.5.3.56-cp38-cp38-macosx_10_15_x86_64.whl (51.4 MB)\n",
      "\u001b[K     |████████████████████████████████| 51.4 MB 1.9 MB/s eta 0:00:01     |████████████████████▏           | 32.4 MB 129 kB/s eta 0:02:28     |███████████████████████████████ | 49.9 MB 1.8 MB/s eta 0:00:01\n",
      "\u001b[?25hCollecting imutils==0.5.4\n",
      "  Downloading imutils-0.5.4.tar.gz (17 kB)\n",
      "Requirement already satisfied: numpy in /Users/cha/opt/anaconda3/lib/python3.8/site-packages (from -r requirements.txt (line 10)) (1.19.2)\n",
      "Requirement already satisfied: pillow>=6.2.0 in /Users/cha/opt/anaconda3/lib/python3.8/site-packages (from matplotlib==3.4.3->-r requirements.txt (line 1)) (8.0.1)\n",
      "Requirement already satisfied: kiwisolver>=1.0.1 in /Users/cha/opt/anaconda3/lib/python3.8/site-packages (from matplotlib==3.4.3->-r requirements.txt (line 1)) (1.3.0)\n",
      "Requirement already satisfied: python-dateutil>=2.7 in /Users/cha/.local/lib/python3.8/site-packages (from matplotlib==3.4.3->-r requirements.txt (line 1)) (2.8.1)\n",
      "Requirement already satisfied: pyparsing>=2.2.1 in /Users/cha/opt/anaconda3/lib/python3.8/site-packages (from matplotlib==3.4.3->-r requirements.txt (line 1)) (2.4.7)\n",
      "Requirement already satisfied: cycler>=0.10 in /Users/cha/opt/anaconda3/lib/python3.8/site-packages (from matplotlib==3.4.3->-r requirements.txt (line 1)) (0.10.0)\n",
      "Requirement already satisfied: tifffile>=2019.7.26 in /Users/cha/opt/anaconda3/lib/python3.8/site-packages (from scikit-image==0.18.3->-r requirements.txt (line 3)) (2020.10.1)\n",
      "Requirement already satisfied: PyWavelets>=1.1.1 in /Users/cha/opt/anaconda3/lib/python3.8/site-packages (from scikit-image==0.18.3->-r requirements.txt (line 3)) (1.1.1)\n",
      "Requirement already satisfied: imageio>=2.3.0 in /Users/cha/opt/anaconda3/lib/python3.8/site-packages (from scikit-image==0.18.3->-r requirements.txt (line 3)) (2.9.0)\n",
      "Requirement already satisfied: networkx>=2.0 in /Users/cha/opt/anaconda3/lib/python3.8/site-packages (from scikit-image==0.18.3->-r requirements.txt (line 3)) (2.5)\n",
      "Requirement already satisfied: threadpoolctl>=2.0.0 in /Users/cha/opt/anaconda3/lib/python3.8/site-packages (from scikit-learn==0.24.2->-r requirements.txt (line 4)) (2.1.0)\n",
      "Requirement already satisfied: joblib>=0.11 in /Users/cha/opt/anaconda3/lib/python3.8/site-packages (from scikit-learn==0.24.2->-r requirements.txt (line 4)) (0.17.0)\n",
      "Requirement already satisfied: absl-py~=0.10 in /Users/cha/opt/anaconda3/lib/python3.8/site-packages (from tensorflow-cpu==2.6.0->-r requirements.txt (line 5)) (0.11.0)\n",
      "Requirement already satisfied: typing-extensions~=3.7.4 in /Users/cha/opt/anaconda3/lib/python3.8/site-packages (from tensorflow-cpu==2.6.0->-r requirements.txt (line 5)) (3.7.4.3)\n",
      "Collecting h5py~=3.1.0\n",
      "  Downloading h5py-3.1.0-cp38-cp38-macosx_10_9_x86_64.whl (2.9 MB)\n",
      "\u001b[K     |████████████████████████████████| 2.9 MB 2.4 MB/s eta 0:00:01\n",
      "\u001b[?25hCollecting grpcio<2.0,>=1.37.0\n",
      "  Downloading grpcio-1.39.0-cp38-cp38-macosx_10_10_x86_64.whl (3.9 MB)\n",
      "\u001b[K     |████████████████████████████████| 3.9 MB 5.4 MB/s eta 0:00:01\n",
      "\u001b[?25hRequirement already satisfied: termcolor~=1.1.0 in /Users/cha/opt/anaconda3/lib/python3.8/site-packages (from tensorflow-cpu==2.6.0->-r requirements.txt (line 5)) (1.1.0)\n",
      "Requirement already satisfied: six~=1.15.0 in /Users/cha/opt/anaconda3/lib/python3.8/site-packages (from tensorflow-cpu==2.6.0->-r requirements.txt (line 5)) (1.15.0)\n",
      "Requirement already satisfied: wrapt~=1.12.1 in /Users/cha/opt/anaconda3/lib/python3.8/site-packages (from tensorflow-cpu==2.6.0->-r requirements.txt (line 5)) (1.12.1)\n",
      "Collecting tensorboard~=2.6\n",
      "  Downloading tensorboard-2.6.0-py3-none-any.whl (5.6 MB)\n",
      "\u001b[K     |████████████████████████████████| 5.6 MB 2.3 MB/s eta 0:00:011\n",
      "\u001b[?25hRequirement already satisfied: flatbuffers~=1.12.0 in /Users/cha/opt/anaconda3/lib/python3.8/site-packages (from tensorflow-cpu==2.6.0->-r requirements.txt (line 5)) (1.12)\n",
      "Collecting gast==0.4.0\n",
      "  Downloading gast-0.4.0-py3-none-any.whl (9.8 kB)\n",
      "Requirement already satisfied: google-pasta~=0.2 in /Users/cha/opt/anaconda3/lib/python3.8/site-packages (from tensorflow-cpu==2.6.0->-r requirements.txt (line 5)) (0.2.0)\n",
      "Requirement already satisfied: astunparse~=1.6.3 in /Users/cha/opt/anaconda3/lib/python3.8/site-packages (from tensorflow-cpu==2.6.0->-r requirements.txt (line 5)) (1.6.3)\n",
      "Requirement already satisfied: keras-preprocessing~=1.1.2 in /Users/cha/opt/anaconda3/lib/python3.8/site-packages (from tensorflow-cpu==2.6.0->-r requirements.txt (line 5)) (1.1.2)\n",
      "Collecting clang~=5.0\n",
      "  Downloading clang-5.0.tar.gz (30 kB)\n",
      "Requirement already satisfied: opt-einsum~=3.3.0 in /Users/cha/opt/anaconda3/lib/python3.8/site-packages (from tensorflow-cpu==2.6.0->-r requirements.txt (line 5)) (3.3.0)\n",
      "Requirement already satisfied: protobuf>=3.9.2 in /Users/cha/opt/anaconda3/lib/python3.8/site-packages (from tensorflow-cpu==2.6.0->-r requirements.txt (line 5)) (3.14.0)\n",
      "Collecting tensorflow-estimator~=2.6\n",
      "  Downloading tensorflow_estimator-2.6.0-py2.py3-none-any.whl (462 kB)\n",
      "\u001b[K     |████████████████████████████████| 462 kB 1.8 MB/s eta 0:00:01\n",
      "\u001b[?25hRequirement already satisfied: wheel~=0.35 in /Users/cha/opt/anaconda3/lib/python3.8/site-packages (from tensorflow-cpu==2.6.0->-r requirements.txt (line 5)) (0.35.1)\n",
      "Requirement already satisfied: decorator>=4.3.0 in /Users/cha/.local/lib/python3.8/site-packages (from networkx>=2.0->scikit-image==0.18.3->-r requirements.txt (line 3)) (4.4.2)\n",
      "Requirement already satisfied: google-auth<2,>=1.6.3 in /Users/cha/opt/anaconda3/lib/python3.8/site-packages (from tensorboard~=2.6->tensorflow-cpu==2.6.0->-r requirements.txt (line 5)) (1.24.0)\n",
      "Requirement already satisfied: werkzeug>=0.11.15 in /Users/cha/opt/anaconda3/lib/python3.8/site-packages (from tensorboard~=2.6->tensorflow-cpu==2.6.0->-r requirements.txt (line 5)) (1.0.1)\n",
      "Requirement already satisfied: tensorboard-plugin-wit>=1.6.0 in /Users/cha/opt/anaconda3/lib/python3.8/site-packages (from tensorboard~=2.6->tensorflow-cpu==2.6.0->-r requirements.txt (line 5)) (1.7.0)\n",
      "Requirement already satisfied: markdown>=2.6.8 in /Users/cha/opt/anaconda3/lib/python3.8/site-packages (from tensorboard~=2.6->tensorflow-cpu==2.6.0->-r requirements.txt (line 5)) (3.3.3)\n",
      "Requirement already satisfied: setuptools>=41.0.0 in /Users/cha/opt/anaconda3/lib/python3.8/site-packages (from tensorboard~=2.6->tensorflow-cpu==2.6.0->-r requirements.txt (line 5)) (50.3.1.post20201107)\n"
     ]
    },
    {
     "name": "stdout",
     "output_type": "stream",
     "text": [
      "Collecting tensorboard-data-server<0.7.0,>=0.6.0\n",
      "  Downloading tensorboard_data_server-0.6.1-py3-none-macosx_10_9_x86_64.whl (3.5 MB)\n",
      "\u001b[K     |████████████████████████████████| 3.5 MB 235 kB/s eta 0:00:01\n",
      "\u001b[?25hRequirement already satisfied: google-auth-oauthlib<0.5,>=0.4.1 in /Users/cha/opt/anaconda3/lib/python3.8/site-packages (from tensorboard~=2.6->tensorflow-cpu==2.6.0->-r requirements.txt (line 5)) (0.4.2)\n",
      "Requirement already satisfied: requests<3,>=2.21.0 in /Users/cha/opt/anaconda3/lib/python3.8/site-packages (from tensorboard~=2.6->tensorflow-cpu==2.6.0->-r requirements.txt (line 5)) (2.24.0)\n",
      "Requirement already satisfied: rsa<5,>=3.1.4; python_version >= \"3.6\" in /Users/cha/opt/anaconda3/lib/python3.8/site-packages (from google-auth<2,>=1.6.3->tensorboard~=2.6->tensorflow-cpu==2.6.0->-r requirements.txt (line 5)) (4.7)\n",
      "Requirement already satisfied: pyasn1-modules>=0.2.1 in /Users/cha/opt/anaconda3/lib/python3.8/site-packages (from google-auth<2,>=1.6.3->tensorboard~=2.6->tensorflow-cpu==2.6.0->-r requirements.txt (line 5)) (0.2.8)\n",
      "Requirement already satisfied: cachetools<5.0,>=2.0.0 in /Users/cha/opt/anaconda3/lib/python3.8/site-packages (from google-auth<2,>=1.6.3->tensorboard~=2.6->tensorflow-cpu==2.6.0->-r requirements.txt (line 5)) (4.2.0)\n",
      "Requirement already satisfied: requests-oauthlib>=0.7.0 in /Users/cha/opt/anaconda3/lib/python3.8/site-packages (from google-auth-oauthlib<0.5,>=0.4.1->tensorboard~=2.6->tensorflow-cpu==2.6.0->-r requirements.txt (line 5)) (1.3.0)\n",
      "Requirement already satisfied: certifi>=2017.4.17 in /Users/cha/opt/anaconda3/lib/python3.8/site-packages (from requests<3,>=2.21.0->tensorboard~=2.6->tensorflow-cpu==2.6.0->-r requirements.txt (line 5)) (2020.6.20)\n",
      "Requirement already satisfied: idna<3,>=2.5 in /Users/cha/opt/anaconda3/lib/python3.8/site-packages (from requests<3,>=2.21.0->tensorboard~=2.6->tensorflow-cpu==2.6.0->-r requirements.txt (line 5)) (2.10)\n",
      "Requirement already satisfied: urllib3!=1.25.0,!=1.25.1,<1.26,>=1.21.1 in /Users/cha/opt/anaconda3/lib/python3.8/site-packages (from requests<3,>=2.21.0->tensorboard~=2.6->tensorflow-cpu==2.6.0->-r requirements.txt (line 5)) (1.25.11)\n",
      "Requirement already satisfied: chardet<4,>=3.0.2 in /Users/cha/opt/anaconda3/lib/python3.8/site-packages (from requests<3,>=2.21.0->tensorboard~=2.6->tensorflow-cpu==2.6.0->-r requirements.txt (line 5)) (3.0.4)\n",
      "Requirement already satisfied: pyasn1>=0.1.3 in /Users/cha/opt/anaconda3/lib/python3.8/site-packages (from rsa<5,>=3.1.4; python_version >= \"3.6\"->google-auth<2,>=1.6.3->tensorboard~=2.6->tensorflow-cpu==2.6.0->-r requirements.txt (line 5)) (0.4.8)\n",
      "Requirement already satisfied: oauthlib>=3.0.0 in /Users/cha/opt/anaconda3/lib/python3.8/site-packages (from requests-oauthlib>=0.7.0->google-auth-oauthlib<0.5,>=0.4.1->tensorboard~=2.6->tensorflow-cpu==2.6.0->-r requirements.txt (line 5)) (3.1.0)\n",
      "Building wheels for collected packages: imutils, clang\n",
      "  Building wheel for imutils (setup.py) ... \u001b[?25ldone\n",
      "\u001b[?25h  Created wheel for imutils: filename=imutils-0.5.4-py3-none-any.whl size=25860 sha256=3bdcad5c1f250bcb08fee310337e29360b36a4d44e5f13c7c69067756f255156\n",
      "  Stored in directory: /Users/cha/Library/Caches/pip/wheels/59/1b/52/0dea905f8278d5514dc4d0be5e251967f8681670cadd3dca89\n",
      "  Building wheel for clang (setup.py) ... \u001b[?25ldone\n",
      "\u001b[?25h  Created wheel for clang: filename=clang-5.0-py3-none-any.whl size=30705 sha256=1c0dc87eb86cf5d8a0c279718dde885d34707c7f7fb237778acfcbd1aa2ac479\n",
      "  Stored in directory: /Users/cha/Library/Caches/pip/wheels/f1/60/77/22b9b5887bd47801796a856f47650d9789c74dc3161a26d608\n",
      "Successfully built imutils clang\n",
      "Installing collected packages: matplotlib, scipy, scikit-image, scikit-learn, keras, h5py, grpcio, tensorboard-data-server, tensorboard, gast, clang, tensorflow-estimator, tensorflow-cpu, opencv-python, opencv-contrib-python, imutils\n",
      "  Attempting uninstall: matplotlib\n",
      "    Found existing installation: matplotlib 3.3.2\n",
      "    Uninstalling matplotlib-3.3.2:\n",
      "      Successfully uninstalled matplotlib-3.3.2\n",
      "  Attempting uninstall: scipy\n",
      "    Found existing installation: scipy 1.5.2\n",
      "    Uninstalling scipy-1.5.2:\n",
      "      Successfully uninstalled scipy-1.5.2\n",
      "  Attempting uninstall: scikit-image\n",
      "    Found existing installation: scikit-image 0.17.2\n",
      "    Uninstalling scikit-image-0.17.2:\n",
      "      Successfully uninstalled scikit-image-0.17.2\n",
      "  Attempting uninstall: scikit-learn\n",
      "    Found existing installation: scikit-learn 0.23.2\n",
      "    Uninstalling scikit-learn-0.23.2:\n",
      "      Successfully uninstalled scikit-learn-0.23.2\n",
      "  Attempting uninstall: keras\n",
      "    Found existing installation: Keras 2.4.3\n",
      "    Uninstalling Keras-2.4.3:\n",
      "      Successfully uninstalled Keras-2.4.3\n",
      "  Attempting uninstall: h5py\n",
      "    Found existing installation: h5py 2.10.0\n",
      "    Uninstalling h5py-2.10.0:\n",
      "      Successfully uninstalled h5py-2.10.0\n",
      "  Attempting uninstall: grpcio\n",
      "    Found existing installation: grpcio 1.32.0\n",
      "    Uninstalling grpcio-1.32.0:\n",
      "      Successfully uninstalled grpcio-1.32.0\n",
      "  Attempting uninstall: tensorboard\n",
      "    Found existing installation: tensorboard 2.4.0\n",
      "    Uninstalling tensorboard-2.4.0:\n",
      "      Successfully uninstalled tensorboard-2.4.0\n",
      "  Attempting uninstall: gast\n",
      "    Found existing installation: gast 0.3.3\n",
      "    Uninstalling gast-0.3.3:\n",
      "      Successfully uninstalled gast-0.3.3\n",
      "  Attempting uninstall: tensorflow-estimator\n",
      "    Found existing installation: tensorflow-estimator 2.4.0\n",
      "    Uninstalling tensorflow-estimator-2.4.0:\n",
      "      Successfully uninstalled tensorflow-estimator-2.4.0\n",
      "  Attempting uninstall: opencv-python\n",
      "    Found existing installation: opencv-python 4.5.1.48\n",
      "    Uninstalling opencv-python-4.5.1.48:\n",
      "      Successfully uninstalled opencv-python-4.5.1.48\n",
      "\u001b[31mERROR: After October 2020 you may experience errors when installing or updating packages. This is because pip will change the way that it resolves dependency conflicts.\n",
      "\n",
      "We recommend you use --use-feature=2020-resolver to test your packages with the new resolver before it becomes the default.\n",
      "\n",
      "tensorflow 2.4.0 requires gast==0.3.3, but you'll have gast 0.4.0 which is incompatible.\n",
      "tensorflow 2.4.0 requires grpcio~=1.32.0, but you'll have grpcio 1.39.0 which is incompatible.\n",
      "tensorflow 2.4.0 requires h5py~=2.10.0, but you'll have h5py 3.1.0 which is incompatible.\n",
      "tensorflow 2.4.0 requires tensorflow-estimator<2.5.0,>=2.4.0rc0, but you'll have tensorflow-estimator 2.6.0 which is incompatible.\u001b[0m\n",
      "Successfully installed clang-5.0 gast-0.4.0 grpcio-1.39.0 h5py-3.1.0 imutils-0.5.4 keras-2.6.0 matplotlib-3.4.3 opencv-contrib-python-4.5.3.56 opencv-python-4.5.3.56 scikit-image-0.18.3 scikit-learn-0.24.2 scipy-1.7.1 tensorboard-2.6.0 tensorboard-data-server-0.6.1 tensorflow-cpu-2.6.0 tensorflow-estimator-2.6.0\n"
     ]
    }
   ],
   "source": [
    "!pip install -r requirements.txt"
   ]
  },
  {
   "cell_type": "markdown",
   "metadata": {},
   "source": [
    "## Part 1 : A small tutorial on image classification\n",
    "\n",
    "In this section, we will briefly introduce the image classification problem which consists in assigning to an input image one label from a fixed set of labels and which is one of the big challenge of computer vision and artifial intelligence. In our case, we will only consider two labels $\\{dog, cat\\}$. This small tutorial also aims at familiarizing you with machine learning and computer vision librairies that we will used in this course :\n",
    "+ Scikit-Learn : [http://scikit-learn.org/stable/](http://scikit-learn.org/stable/)\n",
    "+ OpenCV : [http://opencv.org/](http://opencv.org/) or Scikit-image ([http://scikit-image.org/](http://scikit-image.org/)).\n",
    "\n",
    "![ImageCat](images/Diapositive1.jpg)\n",
    "\n",
    "While the task of image classification is very easy for a human, we have to face with several challenge to build our automatic recognition algorithm among whom:\n",
    "\n",
    "+ Viewpoint variation.\n",
    "+ Scale variation.\n",
    "+ Illumination conditions variation.\n",
    "+ Deformation.\n",
    "+ Occlusion.\n",
    "+ Backgroud clutter.\n",
    "+ Intraclass variation.\n",
    "\n",
    "![ImageCatwithvariations](./images/Diapositive2.jpg)\n",
    "\n",
    "![ImageCatwithocclusion](./images/Diapositive3.jpg)\n",
    "\n",
    "Source : Images from the CS231n course of Stanford (Convolutional Neural Networks for Visual Recognition)\n",
    "\n",
    "\n",
    "\n",
    "\n",
    "\n",
    "\n",
    "\n",
    "\n",
    "\n",
    "\n"
   ]
  },
  {
   "cell_type": "markdown",
   "metadata": {},
   "source": [
    "### A simple image classification pipeline\n",
    "\n",
    "To built our image classification algorithm, we will follow the principle of a machine learning approach for image classification which consists in :\n",
    "1. Collecting and preparing a dataset of images and their corresponding labels.\n",
    "2. Using a machine learning algorithm to train a classifier.\n",
    "3. Evaluate the classifier on new images.\n",
    "\n",
    "\n",
    "![ImageClassificationpipeline](images/testphase.png)"
   ]
  },
  {
   "cell_type": "markdown",
   "metadata": {},
   "source": [
    "#### Having a look on the available data\n",
    "\n",
    "First, you have to  download the dataset that will be used to train and test our model. Before downloading the data, create a subdirectory in your working folder called data. Then download [DataDogsCatsChallenge.zip](https://filesender.renater.fr/?s=download&token=73e7d488-3aa8-43d5-a028-ed6f2e62f61a) into that directory and unzip it. This dataset contains 25,000 labelled dog and cat photos available for training, and 12,500 in the test set that we have to try to label for the Kaggle competition.\n",
    "\n",
    "As we have seen in the lecture note, the standard practice in machine learning is to split the available data into at least two different subsets :\n",
    "+ The **training set** : to learn the model.\n",
    "+ The **testing set** : to evaluate the learned model.\n",
    "\n",
    "You have also seen that is the also standard to add a third set to the split to build a **validation set** that will be used to fine-tune the parameters of the model.\n",
    "\n",
    "I you have a look on the DogsCatsChallenge directory, you will see that the preparation of the data have been done and that the test and train sets are in separate subdirectories in which data for each category (cats and dogs) is also into subdirectories. Nevertheless, there is no validation set and one of your first task will be to build it.\n",
    "\n",
    "The archive also contains a directory named **sample**. Training and validating the entire dataset can take some time. Therefore, it is a good practice to run first your algorithm on a small sample of your training and validation data before to run it on the entire set of data.\n"
   ]
  },
  {
   "cell_type": "markdown",
   "metadata": {},
   "source": [
    "##### Image representation\n",
    "\n",
    "Your first task will be to built a representation of the data, i.e. a feature vector which values quantify the contents of the image. We will see latter that, using Deep Convolutional Neural Networks, we can learn an efficient representation directly using raw pixel intensities as inputs. Here, we will just represent the images by two alternative representations.\n",
    "+ A first representation is built using the raw data by simply resizing an input image to a fixed size (here $32 \\times 32$ pixels) and then by flattening the RBG pixel intensities into a single vectors of numbers.\n",
    "+ A second representation is built from the color histogram that characterizes the color distribution of the image. For this representation a color conversion into the HSV color space could be useful.\n",
    "\n",
    "**Complete the functions below to build such representations**\n",
    "\n",
    "Some helping functions :\n",
    "+ With Numpy:\n",
    "    + [Array flattening](https://docs.scipy.org/doc/numpy/reference/generated/numpy.ndarray.flatten.html)\n",
    "    \n",
    "+ With OpenCV:\n",
    "\n",
    "     + [Geometric transformations on images](http://docs.opencv.org/trunk/da/d6e/tutorial_py_geometric_transformations.html) \n",
    "     + [Colorspace conversion](http://docs.opencv.org/trunk/df/d9d/tutorial_py_colorspaces.html) \n",
    "     + [Histogram in OpenCV](http://docs.opencv.org/trunk/de/db2/tutorial_py_table_of_contents_histograms.html)\n",
    "    \n",
    "+ With Scikit-image :\n",
    "    + [Loading an image from a file](https://scikit-image.org/docs/stable/user_guide/data_types.html)\n",
    "    + [Image transformations](https://scikit-image.org/docs/dev/user_guide/transforming_image_data.html)\n",
    "    + [Colorspace conversion](https://scikit-image.org/docs/dev/user_guide/transforming_image_data.html#color-manipulation)\n",
    "     \n",
    "    "
   ]
  },
  {
   "cell_type": "markdown",
   "metadata": {},
   "source": [
    "Apply the following code."
   ]
  },
  {
   "cell_type": "code",
   "execution_count": 78,
   "metadata": {},
   "outputs": [],
   "source": [
    "from sklearn.neighbors import KNeighborsClassifier\n",
    "from sklearn.model_selection import train_test_split\n",
    "from imutils import paths\n",
    "import numpy as np\n",
    "import argparse\n",
    "import imutils\n",
    "import cv2\n",
    "import os\n",
    "from skimage.transform import rescale, resize, downscale_local_mean\n",
    "from skimage.exposure import histogram\n",
    "from skimage.color import rgb2hsv"
   ]
  },
  {
   "cell_type": "code",
   "execution_count": 196,
   "metadata": {},
   "outputs": [],
   "source": [
    "# TO DO : complete other import modules\n",
    "def image_to_feature_vector(image, size=(32, 32)):\n",
    "    # resize the image to a fixed size, then flatten the image into a list of\n",
    "    #raw pixel intensities\n",
    "    \n",
    "    image=cv2.resize(image, size, interpolation = cv2.INTER_CUBIC)\n",
    "    image = image.flatten(order='C')\n",
    "    return image\n",
    "\n",
    "\n",
    "\n",
    "def build_HSV_color_histogram_vector(image,bins=(8, 8, 8)):\n",
    "    # extract a 3D color histogram from the HSV color space\n",
    "    #using the supplied number of `bins` per channel and return it as a feature vector\n",
    "    HSV_image = rgb2hsv(image)\n",
    "    mask = np.zeros(image.shape)\n",
    "    channel_ids = (0, 1, 2)\n",
    "    res = []\n",
    "    histogram, bin_edges = np.histogram(HSV_image[:, :, 0], bins=8)\n",
    "    for channel_id in channel_ids:\n",
    "        histogram, bin_edges = np.histogram(HSV_image[:, :, channel_id], bins=8)\n",
    "        res=np.concatenate((res,histogram))\n",
    "    return res\n",
    "\n",
    "#image_to_feature_vector(None)"
   ]
  },
  {
   "cell_type": "markdown",
   "metadata": {},
   "source": [
    "#### Dataset prepatation and feature extraction\n",
    "The dataset has to be prepared for feature extraction :\n",
    "+ Three lists will be initialized to store the raw pixel representation, the color distribution (histogram) representation and the class labels themselves.\n",
    "+ Then, the lists will be completed by extracted the features from the dataset (don't forgot to begin by testing your program on the sample dataset before to apply it on the whole dataset).\n",
    "\n",
    "For this step, we can used the paths.py file [here](https://github.com/jrosebr1/imutils/blob/master/imutils/paths.py)\n",
    "\n",
    "\n"
   ]
  },
  {
   "cell_type": "code",
   "execution_count": 230,
   "metadata": {},
   "outputs": [
    {
     "name": "stdout",
     "output_type": "stream",
     "text": [
      "Describing images...\n",
      "[ 14122.    843.   1069.   4195. 135057.  10669.   4235.   4959.  95232.\n",
      "  45852.  15598.  12020.   5292.    641.    254.    260.   7796.  20960.\n",
      "  14127.  23135.  24895.  15817.  43123.  25296.]\n"
     ]
    }
   ],
   "source": [
    "from paths import *\n",
    "\n",
    "print(\"Describing images...\")\n",
    "imagePaths = list(list_images('./data/DogCatChallenge/sampleDeep'))\n",
    "trainPaths = list(list_images('./data/DogCatChallenge/sampleDeep/train'))\n",
    "testPaths = list(list_images('./data/DogCatChallenge/sampleDeep/valid'))\n",
    "\n",
    "\n",
    "# initialize the raw pixel intensities matrix, the features matrix and labels list\n",
    "rawImages_features = []\n",
    "X_train_rawImages_features=[]\n",
    "X_test_rawImages_features=[]\n",
    "histogram_features = []\n",
    "X_train_histogram_features=[]\n",
    "X_test_histogram_features=[]\n",
    "\n",
    "y_train = []\n",
    "y_test = []\n",
    "\n",
    "for path in trainPaths:\n",
    "    if 'train/cats' in path:\n",
    "        y_train+=['cat']\n",
    "    if 'train/dogs' in path:\n",
    "        y_train+=['dog']\n",
    "for path in testPaths:\n",
    "    if 'valid/cats' in path:\n",
    "        y_test+=['cat']\n",
    "    if 'valid/dogs' in path:\n",
    "        y_test+=['dog']\n",
    "\n",
    "for file in trainPaths:\n",
    "    image = cv2.imread(file)\n",
    "    image_raw = image_to_feature_vector(image, size=(32, 32))\n",
    "    X_train_rawImages_features+=[image_raw]\n",
    "    X_train_histogram_features += [build_HSV_color_histogram_vector(image,bins=(8, 8, 8))]\n",
    "\n",
    "for file in testPaths:\n",
    "    image = cv2.imread(file)\n",
    "    image_raw = image_to_feature_vector(image, size=(32, 32))\n",
    "    X_test_rawImages_features+=[image_raw]\n",
    "    X_test_histogram_features += [build_HSV_color_histogram_vector(image,bins=(8, 8, 8))]"
   ]
  },
  {
   "cell_type": "code",
   "execution_count": 243,
   "metadata": {},
   "outputs": [
    {
     "name": "stdout",
     "output_type": "stream",
     "text": [
      "800\n"
     ]
    }
   ],
   "source": [
    "print(len(X_test_rawImages_features))"
   ]
  },
  {
   "cell_type": "markdown",
   "metadata": {},
   "source": [
    "#### Dataset splitting into training and validation dataset\n",
    "\n",
    "The last common step in machine learning will be to split the training dataset into training dataset and validation dataset. For this, you could use some functions from scikit-learn :\n",
    "\n",
    "  + [Cross validation](http://scikit-learn.org/stable/modules/cross_validation.html)\n",
    "    \n",
    "    \n",
    " In our case, the split of the dataset into training, validation and test set has been done but you can try to build another sample dataset using the fonctions of scikit-learn. In particular, if you are note familiar to **cross validation**, take the time to read carefully the previous documentation."
   ]
  },
  {
   "cell_type": "code",
   "execution_count": 130,
   "metadata": {},
   "outputs": [],
   "source": [
    "from sklearn.model_selection import train_test_split\n",
    "\n"
   ]
  },
  {
   "cell_type": "markdown",
   "metadata": {},
   "source": [
    "#### Classification using the K-Nearest Neighbor (k-NN) classifier\n",
    "\n",
    "\n",
    "In order to build this simple image classification pipeline, you will use the k-Nearest Neighbor (k-NN) classifier which is a very simple machine learning/image classification approach, rarely used in practice but its simplicity will enable you to get quickly an idea of the image classification pipeline.\n",
    "\n",
    "The principle of the [k-NN classifier](https://en.wikipedia.org/wiki/K-nearest_neighbors_algorithm) can be summarize by the following principle : “Tell me who your neighbors are, and I’ll tell you who you are”. Given an unknown image and a training dataset, the k-NN classifier will compare this image to every single image of the training dataset and will predict the label by finding the most common class among the k-closest examples.\n",
    "\n",
    "Thus to apply the k-nearest Neighbor classification, we need to define a distance metric or a similarity function. For the sake of simplicity, here we will consider the euclidian distance but other distances can be used according to the targeted type of data.\n",
    "\n",
    "$d(\\mathbf{p},\\mathbf{q})=\\sqrt{\\sum_{i=1}^{N}(q_i-p_i)^2}$\n",
    "\n",
    "with $\\mathbf{p}$ and $\\mathbf{q}$ two data vectorial representations.\n",
    "\n",
    "You can now train and predict a k-Nearest Neighbor classifier on your different splits. Once again, we suggest you to have a look on the scikit-learn documentation :\n",
    "+ [KNeighborsClassifier](http://scikit-learn.org/stable/modules/generated/sklearn.neighbors.KNeighborsClassifier.html#sklearn.neighbors.KNeighborsClassifier)\n",
    "+ [Example](http://scikit-learn.org/stable/auto_examples/neighbors/plot_classification.html#sphx-glr-auto-examples-neighbors-plot-classification-py)\n",
    "+ [An introduction to machine learning with scikit-learn](http://scikit-learn.org/stable/tutorial/basic/tutorial.html#learning-and-predicting)\n"
   ]
  },
  {
   "cell_type": "code",
   "execution_count": 233,
   "metadata": {},
   "outputs": [
    {
     "name": "stderr",
     "output_type": "stream",
     "text": [
      "/Users/cha/opt/anaconda3/lib/python3.8/site-packages/sklearn/metrics/pairwise.py:1450: FutureWarning: from version 1.0 (renaming of 0.25), pairwise_distances for metric='seuclidean' will require V to be specified if Y is passed.\n",
      "  warnings.warn(\n"
     ]
    },
    {
     "name": "stdout",
     "output_type": "stream",
     "text": [
      "Raw pixel representation accuracy:0.56125\n"
     ]
    }
   ],
   "source": [
    "from sklearn.neighbors import KNeighborsClassifier\n",
    "\n",
    "network = KNeighborsClassifier(n_neighbors=5, metric=\"seuclidean\")\n",
    "network.fit(X_train_rawImages_features, y_train)\n",
    "score_raw = network.score(X_test_rawImages_features, y_test)\n",
    "\n",
    "print(\"Raw pixel representation accuracy:\"+ str(score_raw))"
   ]
  },
  {
   "cell_type": "code",
   "execution_count": 238,
   "metadata": {},
   "outputs": [
    {
     "name": "stdout",
     "output_type": "stream",
     "text": [
      "Color histogram representation accuracy:0.575\n"
     ]
    },
    {
     "name": "stderr",
     "output_type": "stream",
     "text": [
      "/Users/cha/opt/anaconda3/lib/python3.8/site-packages/sklearn/metrics/pairwise.py:1450: FutureWarning: from version 1.0 (renaming of 0.25), pairwise_distances for metric='seuclidean' will require V to be specified if Y is passed.\n",
      "  warnings.warn(\n"
     ]
    }
   ],
   "source": [
    "network_bis = KNeighborsClassifier(n_neighbors=5, metric=\"seuclidean\")\n",
    "network_bis.fit(X_train_histogram_features, y_train)\n",
    "score_hist = network_bis.score(X_test_histogram_features, y_test)\n",
    "\n",
    "print(\"Color histogram representation accuracy:\" + str(score_hist))"
   ]
  },
  {
   "cell_type": "markdown",
   "metadata": {},
   "source": [
    "**Take the time to compare and to discuss with the others your obtained score !**"
   ]
  },
  {
   "cell_type": "markdown",
   "metadata": {},
   "source": [
    "#### Validation sets for Hyperparameter tuning\n",
    "\n",
    "The k-nearest neighbor classifier requires a setting for k. What value have you chosen?  How ? Another parameter of this classifier is the choice of the distance functions we could have used. These choices are called **hyperparameters** and their setting is one of the main issue of the design of many Machine Learning algorithms.\n",
    "\n",
    "To choose these hyperparameter values, the principle is to try out many different values and to see what works best. The main question is on which data ? On the test set ? On the training set ? In fact, the idea is to split your training set in two: a slightly smaller training set, and what we call a **validation set** as explained in the course.\n",
    "\n",
    "The scikit-learn library has two methods that can perform hyperparameter search and optimization: **Grid search** and **Randomized Search**. Let's have a look on their documentations :\n",
    " + [Tuning the hyper-parameters of an estimator](http://scikit-learn.org/stable/modules/grid_search.html)\n",
    " \n",
    " \n",
    "You will now apply these two methods to tune the hyperparameters of our k-NN classifier :\n",
    " 1. First, define a dictionary of parameters which contains two keys :\n",
    "     + `n_neighbors` the number of nearest neighbors $k$ in the k-NN algorithm that we will vary in the range $[1, 29]$ (if your sample dataset is sufficient)\n",
    "     + `metric` the distance function/similarity metric for k-NN that can be either the Euclidean distance either the Manhattan/City block distance.\n",
    " 2. Then, apply Grid Search and Randomized Search\n",
    "\n"
   ]
  },
  {
   "cell_type": "code",
   "execution_count": 239,
   "metadata": {},
   "outputs": [
    {
     "name": "stdout",
     "output_type": "stream",
     "text": [
      "Building training/testing split...\n",
      "Tuning hyperparameters via grid search on raw features\n",
      "time raw grid search 216.5674111843109\n"
     ]
    }
   ],
   "source": [
    "from sklearn.model_selection import RandomizedSearchCV\n",
    "from sklearn.model_selection import GridSearchCV\n",
    "import time\n",
    "\n",
    "print(\"Building training/testing split...\")\n",
    "\n",
    "params = {\"n_neighbors\": np.arange(1, 29, 1),\"metric\": [\"euclidean\", \"cityblock\"]}\n",
    "\n",
    "\n",
    "print(\"Tuning hyperparameters via grid search on raw features\")\n",
    "\n",
    "knn = KNeighborsClassifier()\n",
    "\n",
    "start = time.time()\n",
    "\n",
    "grid_raw = GridSearchCV(knn, params)\n",
    "grid_raw.fit(X_train_rawImages_features, y_train)\n",
    "\n",
    "stop = time.time()\n",
    "print('time raw grid search', stop-start)"
   ]
  },
  {
   "cell_type": "code",
   "execution_count": 240,
   "metadata": {},
   "outputs": [
    {
     "name": "stdout",
     "output_type": "stream",
     "text": [
      "{'metric': 'euclidean', 'n_neighbors': 13}\n"
     ]
    }
   ],
   "source": [
    "#def report(results, n_top=3):\n",
    "#    for i in range(1, n_top + 1):\n",
    "#        candidates = np.flatnonzero(results['rank_test_score'] == i)\n",
    "#        for candidate in candidates:\n",
    "#            print(\"Model with rank: {0}\".format(i))\n",
    "#            print(\"Mean validation score: {0:.3f} (std: {1:.3f})\"\n",
    "#                  .format(results['mean_test_score'][candidate],\n",
    "#                          results['std_test_score'][candidate]))\n",
    "#            print(\"Parameters: {0}\".format(results['params'][candidate]))\n",
    "#            print(\"\")\n",
    "\n",
    "print(grid_raw.best_params_)\n",
    "#report(result.cv_results_)"
   ]
  },
  {
   "cell_type": "code",
   "execution_count": 241,
   "metadata": {},
   "outputs": [
    {
     "name": "stdout",
     "output_type": "stream",
     "text": [
      "Tuning hyperparameters via grid search on histo features\n",
      "time histo grid search 9.523529052734375\n"
     ]
    }
   ],
   "source": [
    "print(\"Tuning hyperparameters via grid search on histo features\")\n",
    "\n",
    "start = time.time()\n",
    "\n",
    "grid_histo = GridSearchCV(knn, params)\n",
    "grid_histo.fit(X_train_histogram_features, y_train)\n",
    "\n",
    "\n",
    "stop = time.time()\n",
    "print('time histo grid search', stop-start)"
   ]
  },
  {
   "cell_type": "code",
   "execution_count": 242,
   "metadata": {},
   "outputs": [
    {
     "name": "stdout",
     "output_type": "stream",
     "text": [
      "{'metric': 'euclidean', 'n_neighbors': 11}\n"
     ]
    }
   ],
   "source": [
    "print(grid_histo.best_params_)"
   ]
  },
  {
   "cell_type": "code",
   "execution_count": 244,
   "metadata": {},
   "outputs": [
    {
     "name": "stdout",
     "output_type": "stream",
     "text": [
      "Tuning hyperparameters via randomized search on raw features\n",
      "time raw random 51.31188201904297\n"
     ]
    }
   ],
   "source": [
    "print(\"Tuning hyperparameters via randomized search on raw features\")\n",
    "\n",
    "start = time.time()\n",
    "clf_row = RandomizedSearchCV(knn, params, random_state=0)\n",
    "search = clf_row.fit(X_train_rawImages_features, y_train)\n",
    "\n",
    "stop = time.time()\n",
    "print('time raw random', stop-start)"
   ]
  },
  {
   "cell_type": "code",
   "execution_count": 245,
   "metadata": {},
   "outputs": [
    {
     "name": "stdout",
     "output_type": "stream",
     "text": [
      "{'n_neighbors': 19, 'metric': 'cityblock'}\n"
     ]
    }
   ],
   "source": [
    "print(search.best_params_)"
   ]
  },
  {
   "cell_type": "code",
   "execution_count": 246,
   "metadata": {},
   "outputs": [
    {
     "name": "stdout",
     "output_type": "stream",
     "text": [
      "Tuning hyperparameters via randomized search on histo features\n",
      "time raw random 1.9366939067840576\n"
     ]
    }
   ],
   "source": [
    "print(\"Tuning hyperparameters via randomized search on histo features\")\n",
    "\n",
    "start = time.time()\n",
    "clf_hist = RandomizedSearchCV(knn, params, random_state=0)\n",
    "search_hist = clf_hist.fit(X_train_histogram_features, y_train)\n",
    "\n",
    "stop = time.time()\n",
    "print('time raw random', stop-start)"
   ]
  },
  {
   "cell_type": "code",
   "execution_count": 247,
   "metadata": {},
   "outputs": [
    {
     "name": "stdout",
     "output_type": "stream",
     "text": [
      "{'n_neighbors': 12, 'metric': 'euclidean'}\n"
     ]
    }
   ],
   "source": [
    "print(search_hist.best_params_)"
   ]
  },
  {
   "cell_type": "markdown",
   "metadata": {},
   "source": [
    "#### Cross-validation\n",
    "\n",
    "Sometimes, the size of your training data (and therefore also the validation data) is small and, in this case, the technique used for hyperparameter tuning is **cross-validation**. The main principle is to iterate over different validation sets and to average the performance across these. For example, in a 5-fold cross-validation, we split the training data into 5 equal folds, use 4 of them for training, and 1 for validation. We would then iterate over which fold is the validation fold, evaluate the performance, and finally average the performance across the different folds.\n",
    "\n",
    "The scikit-learn library has also methods for this kind of cross validation :\n",
    "+ [Cross-validation: evaluating estimator performance](http://scikit-learn.org/stable/modules/cross_validation.html#)\n",
    "\n",
    "Here, you will just apply  **m-fold cross validation**. In particular, you have to write a 10-fold cross-validation run for the parameter k of our k-NN algorithm on the training dataset. You will just consider old value of $k$ on the range $[1,29]$\n"
   ]
  },
  {
   "cell_type": "code",
   "execution_count": 268,
   "metadata": {},
   "outputs": [
    {
     "data": {
      "text/plain": [
       "array([ 1,  3,  5,  7,  9, 11, 13, 15, 17, 19, 21, 23, 25, 27])"
      ]
     },
     "execution_count": 268,
     "metadata": {},
     "output_type": "execute_result"
    }
   ],
   "source": [
    "np.arange(1, 29, 2)"
   ]
  },
  {
   "cell_type": "code",
   "execution_count": 266,
   "metadata": {},
   "outputs": [
    {
     "name": "stdout",
     "output_type": "stream",
     "text": [
      "1\n",
      " 10-fold cross validation on the KNN classifier with raw features\n",
      "[0.505 0.565 0.47  0.46  0.58  0.515 0.58  0.495 0.515 0.545]\n",
      "3\n",
      " 10-fold cross validation on the KNN classifier with raw features\n",
      "[0.515 0.57  0.495 0.515 0.575 0.535 0.59  0.475 0.565 0.535]\n",
      "5\n",
      " 10-fold cross validation on the KNN classifier with raw features\n",
      "[0.55  0.555 0.5   0.505 0.575 0.55  0.59  0.485 0.565 0.555]\n",
      "7\n",
      " 10-fold cross validation on the KNN classifier with raw features\n",
      "[0.555 0.535 0.52  0.505 0.585 0.555 0.585 0.525 0.58  0.575]\n",
      "9\n",
      " 10-fold cross validation on the KNN classifier with raw features\n",
      "[0.555 0.535 0.51  0.505 0.57  0.575 0.595 0.485 0.575 0.58 ]\n",
      "11\n",
      " 10-fold cross validation on the KNN classifier with raw features\n",
      "[0.575 0.555 0.535 0.5   0.565 0.58  0.61  0.52  0.6   0.53 ]\n",
      "13\n",
      " 10-fold cross validation on the KNN classifier with raw features\n",
      "[0.58  0.565 0.54  0.505 0.595 0.59  0.6   0.565 0.595 0.56 ]\n",
      "15\n",
      " 10-fold cross validation on the KNN classifier with raw features\n",
      "[0.585 0.575 0.54  0.5   0.605 0.59  0.585 0.565 0.61  0.55 ]\n",
      "17\n",
      " 10-fold cross validation on the KNN classifier with raw features\n",
      "[0.635 0.555 0.525 0.475 0.575 0.58  0.59  0.555 0.59  0.555]\n",
      "19\n",
      " 10-fold cross validation on the KNN classifier with raw features\n",
      "[0.615 0.565 0.505 0.495 0.58  0.565 0.585 0.545 0.575 0.555]\n",
      "21\n",
      " 10-fold cross validation on the KNN classifier with raw features\n",
      "[0.595 0.545 0.525 0.49  0.565 0.575 0.585 0.565 0.61  0.53 ]\n",
      "23\n",
      " 10-fold cross validation on the KNN classifier with raw features\n",
      "[0.585 0.545 0.53  0.52  0.56  0.55  0.59  0.54  0.585 0.53 ]\n",
      "25\n",
      " 10-fold cross validation on the KNN classifier with raw features\n",
      "[0.595 0.54  0.515 0.51  0.565 0.545 0.6   0.54  0.59  0.56 ]\n",
      "27\n",
      " 10-fold cross validation on the KNN classifier with raw features\n",
      "[0.585 0.505 0.485 0.49  0.55  0.535 0.6   0.56  0.575 0.575]\n",
      "29\n",
      " 10-fold cross validation on the KNN classifier with raw features\n",
      "[0.61  0.515 0.485 0.525 0.59  0.53  0.605 0.58  0.59  0.555]\n",
      "[array([0.505, 0.565, 0.47 , 0.46 , 0.58 , 0.515, 0.58 , 0.495, 0.515,\n",
      "       0.545]), array([0.515, 0.57 , 0.495, 0.515, 0.575, 0.535, 0.59 , 0.475, 0.565,\n",
      "       0.535]), array([0.55 , 0.555, 0.5  , 0.505, 0.575, 0.55 , 0.59 , 0.485, 0.565,\n",
      "       0.555]), array([0.555, 0.535, 0.52 , 0.505, 0.585, 0.555, 0.585, 0.525, 0.58 ,\n",
      "       0.575]), array([0.555, 0.535, 0.51 , 0.505, 0.57 , 0.575, 0.595, 0.485, 0.575,\n",
      "       0.58 ]), array([0.575, 0.555, 0.535, 0.5  , 0.565, 0.58 , 0.61 , 0.52 , 0.6  ,\n",
      "       0.53 ]), array([0.58 , 0.565, 0.54 , 0.505, 0.595, 0.59 , 0.6  , 0.565, 0.595,\n",
      "       0.56 ]), array([0.585, 0.575, 0.54 , 0.5  , 0.605, 0.59 , 0.585, 0.565, 0.61 ,\n",
      "       0.55 ]), array([0.635, 0.555, 0.525, 0.475, 0.575, 0.58 , 0.59 , 0.555, 0.59 ,\n",
      "       0.555]), array([0.615, 0.565, 0.505, 0.495, 0.58 , 0.565, 0.585, 0.545, 0.575,\n",
      "       0.555]), array([0.595, 0.545, 0.525, 0.49 , 0.565, 0.575, 0.585, 0.565, 0.61 ,\n",
      "       0.53 ]), array([0.585, 0.545, 0.53 , 0.52 , 0.56 , 0.55 , 0.59 , 0.54 , 0.585,\n",
      "       0.53 ]), array([0.595, 0.54 , 0.515, 0.51 , 0.565, 0.545, 0.6  , 0.54 , 0.59 ,\n",
      "       0.56 ]), array([0.585, 0.505, 0.485, 0.49 , 0.55 , 0.535, 0.6  , 0.56 , 0.575,\n",
      "       0.575]), array([0.61 , 0.515, 0.485, 0.525, 0.59 , 0.53 , 0.605, 0.58 , 0.59 ,\n",
      "       0.555])]\n"
     ]
    }
   ],
   "source": [
    "from sklearn.model_selection import cross_val_score\n",
    "import warnings\n",
    "\n",
    "# creating odd list of K for KNN\n",
    "params = {\"n_neighbors\": np.arange(1, 29, 2)}\n",
    "cv_scores = []\n",
    "warnings.filterwarnings('ignore')\n",
    "\n",
    "for k in np.arange(1, 29, 2):\n",
    "    print(k)\n",
    "    network = KNeighborsClassifier(n_neighbors=k, metric=\"seuclidean\")\n",
    "    # empty list that will hold cv scores\n",
    "\n",
    "    # perform 10-fold cross validation on the KNN classifier with raw features\n",
    "    print(\" 10-fold cross validation on the KNN classifier with raw features\")\n",
    "    scores = cross_val_score(network, X_train_rawImages_features, y_train, cv=10)\n",
    "    print(scores)\n",
    "    cv_scores+=[scores]\n",
    "print(cv_scores)"
   ]
  },
  {
   "cell_type": "code",
   "execution_count": 283,
   "metadata": {},
   "outputs": [],
   "source": [
    "cv_scores=[np.array([0.505, 0.565, 0.47 , 0.46 , 0.58 , 0.515, 0.58 , 0.495, 0.515,\n",
    "       0.545]), np.array([0.515, 0.57 , 0.495, 0.515, 0.575, 0.535, 0.59 , 0.475, 0.565,\n",
    "       0.535]), np.array([0.55 , 0.555, 0.5  , 0.505, 0.575, 0.55 , 0.59 , 0.485, 0.565,\n",
    "       0.555]), np.array([0.555, 0.535, 0.52 , 0.505, 0.585, 0.555, 0.585, 0.525, 0.58 ,\n",
    "       0.575]), np.array([0.555, 0.535, 0.51 , 0.505, 0.57 , 0.575, 0.595, 0.485, 0.575,\n",
    "       0.58 ]), np.array([0.575, 0.555, 0.535, 0.5  , 0.565, 0.58 , 0.61 , 0.52 , 0.6  ,\n",
    "       0.53 ]), np.array([0.58 , 0.565, 0.54 , 0.505, 0.595, 0.59 , 0.6  , 0.565, 0.595,\n",
    "       0.56 ]), np.array([0.585, 0.575, 0.54 , 0.5  , 0.605, 0.59 , 0.585, 0.565, 0.61 ,\n",
    "       0.55 ]), np.array([0.635, 0.555, 0.525, 0.475, 0.575, 0.58 , 0.59 , 0.555, 0.59 ,\n",
    "       0.555]), np.array([0.615, 0.565, 0.505, 0.495, 0.58 , 0.565, 0.585, 0.545, 0.575,\n",
    "       0.555]), np.array([0.595, 0.545, 0.525, 0.49 , 0.565, 0.575, 0.585, 0.565, 0.61 ,\n",
    "       0.53 ]), np.array([0.585, 0.545, 0.53 , 0.52 , 0.56 , 0.55 , 0.59 , 0.54 , 0.585,\n",
    "       0.53 ]), np.array([0.595, 0.54 , 0.515, 0.51 , 0.565, 0.545, 0.6  , 0.54 , 0.59 ,\n",
    "       0.56 ]), np.array([0.585, 0.505, 0.485, 0.49 , 0.55 , 0.535, 0.6  , 0.56 , 0.575,\n",
    "       0.575])]"
   ]
  },
  {
   "cell_type": "code",
   "execution_count": 285,
   "metadata": {},
   "outputs": [
    {
     "name": "stdout",
     "output_type": "stream",
     "text": [
      "0.5229999999999999\n",
      "0.5369999999999999\n",
      "0.5429999999999999\n",
      "0.552\n",
      "0.5485\n",
      "0.5569999999999999\n",
      "0.5695\n",
      "0.5705\n",
      "0.5634999999999999\n",
      "0.5585\n",
      "0.5585000000000001\n",
      "0.5535\n",
      "0.556\n",
      "0.546\n",
      "[0.5229999999999999, 0.5369999999999999, 0.5429999999999999, 0.552, 0.5485, 0.5569999999999999, 0.5695, 0.5705, 0.5634999999999999, 0.5585, 0.5585000000000001, 0.5535, 0.556, 0.546]\n"
     ]
    }
   ],
   "source": [
    "new_cv_scores = []\n",
    "for i in range (14):\n",
    "    row = cv_scores[i]\n",
    "    moy=0\n",
    "    for j in range (10):\n",
    "        moy+=row[j]\n",
    "    moy = moy/10\n",
    "    print(moy)\n",
    "    new_cv_scores+=[moy]\n",
    "print(new_cv_scores)"
   ]
  },
  {
   "cell_type": "code",
   "execution_count": 286,
   "metadata": {},
   "outputs": [
    {
     "name": "stdout",
     "output_type": "stream",
     "text": [
      "Plotting the misclassification error versus k\n",
      "The optimal number of neighbors is 0\n"
     ]
    },
    {
     "data": {
      "image/png": "[encoded data removed]",
      "text/plain": [
       "<Figure size 432x288 with 1 Axes>"
      ]
     },
     "metadata": {
      "needs_background": "light"
     },
     "output_type": "display_data"
    }
   ],
   "source": [
    "print(\"Plotting the misclassification error versus k\")\n",
    "    \n",
    "# changing to misclassification error\n",
    "MSE = [1 - x for x in new_cv_scores]\n",
    "\n",
    "# determining best k\n",
    "optimal_k =0\n",
    "\n",
    "print (\"The optimal number of neighbors is %d\" % optimal_k)\n",
    "\n",
    "# plot misclassification error vs k\n",
    "plt.plot(params[\"n_neighbors\"], MSE)\n",
    "plt.xlabel('Number of Neighbors K')\n",
    "plt.ylabel('Misclassification Error')\n",
    "plt.show()"
   ]
  },
  {
   "cell_type": "code",
   "execution_count": 293,
   "metadata": {},
   "outputs": [
    {
     "name": "stdout",
     "output_type": "stream",
     "text": [
      "1\n",
      " 10-fold cross validation on the KNN classifier with raw features\n",
      "[0.51  0.56  0.575 0.52  0.5   0.545 0.52  0.545 0.515 0.595] 0.5385\n",
      "3\n",
      " 10-fold cross validation on the KNN classifier with raw features\n",
      "[0.585 0.59  0.57  0.54  0.555 0.49  0.54  0.565 0.495 0.55 ] 0.548\n",
      "5\n",
      " 10-fold cross validation on the KNN classifier with raw features\n",
      "[0.56  0.56  0.58  0.575 0.57  0.565 0.57  0.57  0.515 0.535] 0.5599999999999999\n",
      "7\n",
      " 10-fold cross validation on the KNN classifier with raw features\n",
      "[0.6   0.61  0.525 0.565 0.57  0.515 0.54  0.565 0.505 0.49 ] 0.5485\n",
      "9\n",
      " 10-fold cross validation on the KNN classifier with raw features\n",
      "[0.63  0.58  0.56  0.535 0.555 0.54  0.555 0.58  0.505 0.545] 0.5585\n",
      "11\n",
      " 10-fold cross validation on the KNN classifier with raw features\n",
      "[0.605 0.6   0.57  0.595 0.565 0.525 0.52  0.55  0.525 0.565] 0.562\n",
      "13\n",
      " 10-fold cross validation on the KNN classifier with raw features\n",
      "[0.61  0.595 0.565 0.575 0.555 0.545 0.525 0.555 0.525 0.555] 0.5605\n",
      "15\n",
      " 10-fold cross validation on the KNN classifier with raw features\n",
      "[0.625 0.6   0.555 0.59  0.58  0.55  0.535 0.585 0.535 0.56 ] 0.5715\n",
      "17\n",
      " 10-fold cross validation on the KNN classifier with raw features\n",
      "[0.62  0.61  0.555 0.565 0.535 0.555 0.555 0.535 0.56  0.54 ] 0.563\n",
      "19\n",
      " 10-fold cross validation on the KNN classifier with raw features\n",
      "[0.605 0.62  0.575 0.55  0.535 0.54  0.55  0.545 0.53  0.55 ] 0.56\n",
      "21\n",
      " 10-fold cross validation on the KNN classifier with raw features\n",
      "[0.61  0.595 0.565 0.565 0.545 0.57  0.535 0.52  0.505 0.55 ] 0.5559999999999999\n",
      "23\n",
      " 10-fold cross validation on the KNN classifier with raw features\n",
      "[0.605 0.63  0.585 0.555 0.59  0.515 0.515 0.55  0.535 0.56 ] 0.5640000000000001\n",
      "25\n",
      " 10-fold cross validation on the KNN classifier with raw features\n",
      "[0.615 0.605 0.55  0.585 0.565 0.555 0.515 0.56  0.56  0.56 ] 0.5670000000000002\n",
      "27\n",
      " 10-fold cross validation on the KNN classifier with raw features\n",
      "[0.63  0.605 0.535 0.595 0.57  0.58  0.555 0.56  0.535 0.58 ] 0.5745000000000001\n",
      "29\n",
      " 10-fold cross validation on the KNN classifier with raw features\n",
      "[0.605 0.61  0.565 0.605 0.57  0.54  0.52  0.55  0.555 0.57 ] 0.569\n",
      "31\n",
      " 10-fold cross validation on the KNN classifier with raw features\n",
      "[0.605 0.595 0.565 0.61  0.565 0.53  0.52  0.55  0.57  0.585] 0.5695\n",
      "33\n",
      " 10-fold cross validation on the KNN classifier with raw features\n",
      "[0.605 0.585 0.565 0.63  0.535 0.535 0.53  0.55  0.56  0.57 ] 0.5665000000000001\n",
      "35\n",
      " 10-fold cross validation on the KNN classifier with raw features\n",
      "[0.585 0.6   0.57  0.64  0.565 0.545 0.525 0.56  0.535 0.575] 0.5700000000000001\n",
      "37\n",
      " 10-fold cross validation on the KNN classifier with raw features\n",
      "[0.605 0.605 0.585 0.625 0.54  0.505 0.535 0.55  0.535 0.565] 0.5650000000000001\n",
      "39\n",
      " 10-fold cross validation on the KNN classifier with raw features\n",
      "[0.59  0.575 0.59  0.635 0.57  0.51  0.545 0.535 0.515 0.57 ] 0.5635\n",
      "41\n",
      " 10-fold cross validation on the KNN classifier with raw features\n",
      "[0.59  0.585 0.595 0.645 0.545 0.505 0.535 0.535 0.54  0.55 ] 0.5625\n",
      "43\n",
      " 10-fold cross validation on the KNN classifier with raw features\n",
      "[0.605 0.57  0.59  0.64  0.535 0.5   0.54  0.56  0.54  0.535] 0.5615\n",
      "45\n",
      " 10-fold cross validation on the KNN classifier with raw features\n",
      "[0.625 0.56  0.58  0.645 0.555 0.505 0.52  0.545 0.54  0.535] 0.561\n",
      "47\n",
      " 10-fold cross validation on the KNN classifier with raw features\n",
      "[0.635 0.565 0.595 0.64  0.565 0.51  0.555 0.555 0.545 0.535] 0.57\n",
      "49\n",
      " 10-fold cross validation on the KNN classifier with raw features\n",
      "[0.63  0.565 0.605 0.64  0.565 0.51  0.545 0.565 0.54  0.54 ] 0.5705\n",
      "[0.5385, 0.548, 0.5599999999999999, 0.5485, 0.5585, 0.562, 0.5605, 0.5715, 0.563, 0.56, 0.5559999999999999, 0.5640000000000001, 0.5670000000000002, 0.5745000000000001, 0.569, 0.5695, 0.5665000000000001, 0.5700000000000001, 0.5650000000000001, 0.5635, 0.5625, 0.5615, 0.561, 0.57, 0.5705]\n"
     ]
    }
   ],
   "source": [
    "cv_scores_hist = []\n",
    "warnings.filterwarnings('ignore')\n",
    "\n",
    "for k in np.arange(1, 50, 2):\n",
    "    print(k)\n",
    "    network = KNeighborsClassifier(n_neighbors=k, metric=\"seuclidean\")\n",
    "    # empty list that will hold cv scores\n",
    "\n",
    "    # perform 10-fold cross validation on the KNN classifier with raw features\n",
    "    print(\" 10-fold cross validation on the KNN classifier with raw features\")\n",
    "    scores = cross_val_score(network, X_train_histogram_features, y_train, cv=10)\n",
    "    moy=0\n",
    "    for j in range (10):\n",
    "        moy+=scores[j]\n",
    "    moy=moy/10\n",
    "    print(scores, moy)\n",
    "    cv_scores_hist+=[moy]\n",
    "print(cv_scores_hist)"
   ]
  },
  {
   "cell_type": "code",
   "execution_count": 295,
   "metadata": {},
   "outputs": [
    {
     "name": "stdout",
     "output_type": "stream",
     "text": [
      "The optimal number of neighbors is 0\n"
     ]
    },
    {
     "data": {
      "image/png": "[encoded data removed]",
      "text/plain": [
       "<Figure size 432x288 with 1 Axes>"
      ]
     },
     "metadata": {
      "needs_background": "light"
     },
     "output_type": "display_data"
    }
   ],
   "source": [
    "params_hist = {\"n_neighbors\": np.arange(1, 50, 2)}\n",
    "\n",
    "# changing to misclassification error\n",
    "MSE = [1 - x for x in cv_scores_hist]\n",
    "\n",
    "# determining best k\n",
    "optimal_k =0\n",
    "\n",
    "print (\"The optimal number of neighbors is %d\" % optimal_k)\n",
    "\n",
    "# plot misclassification error vs k\n",
    "plt.plot(params_hist[\"n_neighbors\"], MSE)\n",
    "plt.xlabel('Number of Neighbors K')\n",
    "plt.ylabel('Misclassification Error')\n",
    "plt.show()"
   ]
  },
  {
   "cell_type": "markdown",
   "metadata": {},
   "source": [
    "\n",
    "#### Summary of Part 1\n",
    "\n",
    "    \n",
    "+ <span style=\"background-color:lightgreen\">Introduction of the problem of **Image Classification** </span>.\n",
    "+ <span style=\"background-color:lightgreen\">Introduction and building of a **first simple classifier: the k-NN classifier**.</span> As seen, this classifier is very simple to implement and understand and one of its advantage is that is take no time to train since the training step consists in the storing and the indexing of the training data. Nevertheless, the test time should be expensive since it consists in comparing the target data to every training data. **This behavior is contrary to what is expected** since, in practice, we are often more careful with the test time efficiency that to the training time one.\n",
    "+ <span style=\"background-color:lightgreen\">Introduction of the **supervised machine learning basic pipeline** : preparation of the data and splitting into **training, validation and test sets**, **training of a model** on a labelled training dataset, **hyperparameters tuning** on the validation set, **evaluation of the model accuracy** on the test set.</span>\n",
    "+ <span style=\"background-color:lightgreen\">Introduction to the **cross-validation** procedure.</span>\n"
   ]
  },
  {
   "cell_type": "markdown",
   "metadata": {},
   "source": [
    "<span style=\"background-color:lightblue\"> You have finished the part 1 ! Complete the dashboard on the global MsTeams team.</span>"
   ]
  },
  {
   "cell_type": "markdown",
   "metadata": {
    "collapsed": true
   },
   "source": [
    "## Part 2 : Using Hand-Crafted Features\n",
    "\n",
    "In this part, you will also follow the traditional image recognition approach but you will try to improve your image representation by using better features than the raw representation and the color distribution. Indeed, raw pixel data is hard to use for machine learning and for comparing images in general due to the different challenges explained before.\n",
    "As a consequence, the computer vision community had studied and proposed a wide range of robust and discriminative features such as HOG (Histogram of Oriented Gradients), SIFT (Scale-Invariant Feature Transform) or SURF(Speeded Up Robust Features) among others. These features are often refered as **hand-crafted features**. Have a look on the slides on a good tutorial on features for image classification at ECCV 2010 : [http://ufldl.stanford.edu/eccv10-tutorial/](http://ufldl.stanford.edu/eccv10-tutorial/).\n",
    "\n",
    "In this part, we will use the discriminative bag of visual words (BoVW) approach to represent the content of the target images.  Bag of visual words (BoVW) is a popular technique for image classification inspired by models used in natural language processing and texture recognition. BoVW downplays word arrangement (spatial information in the image) and classifies based on an histogram of the frequency of visual words in image content. The set of visual words forms a visual vocabulary, which is constructed by clustering a large corpus of features. A first step will thus consist in building a visual vocabulary by clustering a large set of local features (you will used DENSE SIFT) extracted from our training image corpus.\n",
    "\n",
    "![Visualvocabularypipeline](images/bagoffeatures_visualwordsoverview.png)\n",
    "\n",
    "Source : [mathwoks](https://fr.mathworks.com/help/vision/ug/image-classification-with-bag-of-visual-words.html?requestedDomain=www.mathworks.com)\n",
    "\n",
    "Then, the typical BoVW pipeline for representing an image consists in :\n",
    "1. extracting the local features from the image,\n",
    "2. encoding the local features to the corresponding visual words\n",
    "3. performing spatial pooling.\n",
    "\n",
    "Then, all the images of your training set are described with the BoVW representation and on the same way than in the previous part you can train any off-shelf classifier to classify images. Here you will train a SVM.\n",
    "\n",
    "![BovWrepresentation](images/yfA1C.png)\n",
    "\n",
    "For this part we suggest to use the OpenCV and scikit-learn libraries.\n",
    "\n",
    "Some documentation :\n",
    " + [Sift and OpenCV](https://docs.opencv.org/master/da/df5/tutorial_py_sift_intro.html)\n",
    " + A small tutorial on Bag of visual words in python [here](https://medium.com/@aybukeyalcinerr/bag-of-visual-words-bovw-db9500331b2f)\n",
    "\n",
    "\n",
    "### Visual Vocabulary Building"
   ]
  },
  {
   "cell_type": "code",
   "execution_count": 69,
   "metadata": {},
   "outputs": [],
   "source": [
    "import cv2\n",
    "import imutils \n",
    "import numpy as np\n",
    "import os\n",
    "from paths import *\n",
    "from sklearn.cluster import KMeans"
   ]
  },
  {
   "cell_type": "code",
   "execution_count": 301,
   "metadata": {},
   "outputs": [
    {
     "name": "stdout",
     "output_type": "stream",
     "text": [
      "2000 2000\n"
     ]
    }
   ],
   "source": [
    "image_paths = list(list_images('./data/DogCatChallenge/sampleDeep/train'))\n",
    "\n",
    "image_classes = []\n",
    "\n",
    "for path in image_paths:\n",
    "    if 'train/cats' in path:\n",
    "        classe = 'cat'\n",
    "    if 'train/dogs' in path:\n",
    "        classe = 'dog'\n",
    "    image_classes += [classe]\n",
    "print(len(image_paths), len(image_classes))"
   ]
  },
  {
   "cell_type": "code",
   "execution_count": 303,
   "metadata": {},
   "outputs": [],
   "source": [
    "# defining feature extractor that we want to use\n",
    "extractor = cv2.SIFT_create()\n",
    "\n",
    "def features(image, extractor):\n",
    "    keypoints, descriptors = extractor.detectAndCompute(image, None)\n",
    "    return keypoints, descriptors\n",
    "\n",
    "descriptor_list = []\n",
    "for path in image_paths:\n",
    "    image = cv2.imread(path)\n",
    "    #image = gray(image)\n",
    "    keypoints, descriptors = features(image, extractor)\n",
    "    if (descriptors is not None):\n",
    "        descriptor_list+=[[path, descriptors]]\n",
    "\n",
    "descriptors = descriptor_list[0][1]\n",
    "for image_path, descriptor in descriptor_list[1:]:\n",
    "    descriptors = np.vstack((descriptors, descriptor)) "
   ]
  },
  {
   "cell_type": "code",
   "execution_count": 305,
   "metadata": {},
   "outputs": [
    {
     "name": "stdout",
     "output_type": "stream",
     "text": [
      "(1609008, 128)\n"
     ]
    }
   ],
   "source": [
    "print(descriptors.shape)"
   ]
  },
  {
   "cell_type": "code",
   "execution_count": 306,
   "metadata": {},
   "outputs": [
    {
     "data": {
      "text/plain": [
       "KMeans(n_clusters=100)"
      ]
     },
     "execution_count": 306,
     "metadata": {},
     "output_type": "execute_result"
    }
   ],
   "source": [
    "k=100\n",
    "kmeans = KMeans(n_clusters = k)\n",
    "kmeans.fit(descriptors)"
   ]
  },
  {
   "cell_type": "code",
   "execution_count": 307,
   "metadata": {},
   "outputs": [
    {
     "data": {
      "image/png": "[encoded data removed]",
      "text/plain": [
       "<Figure size 432x288 with 1 Axes>"
      ]
     },
     "metadata": {
      "needs_background": "light"
     },
     "output_type": "display_data"
    }
   ],
   "source": [
    "from scipy.cluster import vq\n",
    "import matplotlib.pyplot as plt\n",
    "\n",
    "visual_words = kmeans.cluster_centers_\n",
    "\n",
    "histogram = np.zeros(len(visual_words))\n",
    "im_features = np.zeros((len(image_paths), k), \"float32\")\n",
    "\n",
    "for i in range (len(image_paths)):\n",
    "    words, dist = vq.vq(descriptor_list[i][1], visual_words)\n",
    "    for w in words:\n",
    "        im_features[i][w]+=1\n",
    "        \n",
    "plt.hist(im_features[0])\n",
    "plt.show()"
   ]
  },
  {
   "cell_type": "markdown",
   "metadata": {},
   "source": [
    "At the end of this first step, you have build your vocabulary of visual words. You will now use the vocabulary in order to build a representation of each image as a bag of visual words, i.e. each image will be described as an histogram of visual words.\n",
    "\n",
    "### BoVW pipeline \n",
    "Here you have to write the BoVW pipeline and to apply it to each image of the training dataset. "
   ]
  },
  {
   "cell_type": "markdown",
   "metadata": {},
   "source": [
    "### Classification using the BoVW representation and linear SVMs\n",
    "\n",
    "Now, your objective is to train and test a dog and cat classifier using the BoVW representation and SVMs. The good practices of the Part 0 have to be used. \n",
    "Some references :\n",
    "\n",
    " + [http://scikit-learn.org/stable/modules/svm.html](http://scikit-learn.org/stable/modules/svm.html)\n",
    " + [http://scikit-learn.org/stable/auto_examples/classification/plot_digits_classification.html](http://scikit-learn.org/stable/auto_examples/classification/plot_digits_classification.html)\n",
    " + [http://scikit-learn.org/stable/auto_examples/classification/plot_classifier_comparison.html#sphx-glr-auto-examples-classification-plot-classifier-comparison-py](http://scikit-learn.org/stable/auto_examples/classification/plot_classifier_comparison.html#sphx-glr-auto-examples-classification-plot-classifier-comparison-py)"
   ]
  },
  {
   "cell_type": "code",
   "execution_count": 308,
   "metadata": {},
   "outputs": [
    {
     "data": {
      "text/plain": [
       "LinearSVC()"
      ]
     },
     "execution_count": 308,
     "metadata": {},
     "output_type": "execute_result"
    }
   ],
   "source": [
    "from sklearn import svm\n",
    "from sklearn.preprocessing import StandardScaler\n",
    "from sklearn.metrics import accuracy_score\n",
    "\n",
    "stdSlr = StandardScaler().fit(im_features)\n",
    "im_features = stdSlr.transform(im_features)\n",
    "                              \n",
    "clf=svm.LinearSVC()\n",
    "clf.fit(im_features, np.array(image_classes))"
   ]
  },
  {
   "cell_type": "code",
   "execution_count": 310,
   "metadata": {},
   "outputs": [
    {
     "name": "stdout",
     "output_type": "stream",
     "text": [
      "800 800\n"
     ]
    }
   ],
   "source": [
    "test_paths = list(list_images('./data/DogCatChallenge/sampleDeep/valid'))\n",
    "test_classes = []\n",
    "\n",
    "for path in test_paths:\n",
    "    if 'valid/cats' in path:\n",
    "        classe = 'cat'\n",
    "    if 'valid/dogs' in path:\n",
    "        classe = 'dog'\n",
    "    test_classes += [classe]\n",
    "print(len(test_paths), len(test_classes))"
   ]
  },
  {
   "cell_type": "code",
   "execution_count": 311,
   "metadata": {},
   "outputs": [
    {
     "name": "stdout",
     "output_type": "stream",
     "text": [
      "(800, 100)\n"
     ]
    }
   ],
   "source": [
    "# defining feature extractor that we want to use\n",
    "extractor = cv2.SIFT_create()\n",
    "\n",
    "def features(image, extractor):\n",
    "    keypoints, descriptors = extractor.detectAndCompute(image, None)\n",
    "    return keypoints, descriptors\n",
    "\n",
    "descriptor_list_test = []\n",
    "for path in test_paths:\n",
    "    image = cv2.imread(path)\n",
    "    #image = gray(image)\n",
    "    keypoints, descriptors = features(image, extractor)\n",
    "    if (descriptors is not None):\n",
    "        descriptor_list_test+=[[path, descriptors]]\n",
    "\n",
    "descriptors = descriptor_list_test[0][1]\n",
    "for image_path, descriptor in descriptor_list_test[1:]:\n",
    "    descriptors = np.vstack((descriptors, descriptor))\n",
    "\n",
    "histogram = np.zeros(len(visual_words))\n",
    "test_features = np.zeros((len(test_paths), k), \"float32\")\n",
    "\n",
    "for i in range (len(test_paths)):\n",
    "    words, dist = vq.vq(descriptor_list_test[i][1], visual_words)\n",
    "    for w in words:\n",
    "        test_features[i][w]+=1\n",
    "        \n",
    "test_features = stdSlr.transform(test_features)\n",
    "print(test_features.shape)"
   ]
  },
  {
   "cell_type": "code",
   "execution_count": 312,
   "metadata": {},
   "outputs": [
    {
     "name": "stdout",
     "output_type": "stream",
     "text": [
      "accuracy =  0.70125\n"
     ]
    }
   ],
   "source": [
    "predicted_classes = clf.predict(test_features)\n",
    "\n",
    "accuracy = accuracy_score(test_classes, predicted_classes)\n",
    "\n",
    "print('accuracy = ', accuracy)"
   ]
  },
  {
   "cell_type": "markdown",
   "metadata": {},
   "source": [
    "#### Summary of Part 2\n",
    "\n",
    "    \n",
    "+ <span style=\"background-color:lightgreen\">Introduction of classical **hand crafted feature representation** used in computer vision </span>.\n",
    "+ <span style=\"background-color:lightgreen\"> Knowledge on OpenCV.</span> \n",
    "+ <span style=\"background-color:lightgreen\"> Building of another **supervised machine learning basic pipeline** </span>\n",
    "+ <span style=\"background-color:lightgreen\"> A important family of classifiers **SVMs**</span>"
   ]
  },
  {
   "cell_type": "markdown",
   "metadata": {},
   "source": [
    "<span style=\"background-color:lightblue\"> You have finished the part 2 ! Complete the dashboard on the global MsTeams team.</span>"
   ]
  },
  {
   "cell_type": "markdown",
   "metadata": {},
   "source": [
    "## Part 3 : Using Convolutional Neural Networks\n",
    "\n",
    "In this part, you are going to use convolutional neural networks (CNNs) and deep learning in order to build your image classifier. You will use the [Keras framework](https://keras.io/) which is a high-level neural networks API, written in Python and capable of running on top of [TensorFlow](https://www.tensorflow.org/), [CNTK](https://github.com/Microsoft/CNTK), or [Theano](http://www.deeplearning.net/software/theano/). It was developed with a focus on enabling fast experimentation and as a consequence it is a good choice for this course. Various other frameworks are available and can also be used such as [Caffe framework](http://caffe.berkeleyvision.org/), [Torch](http://torch.ch/) or [DeepLearning4j](https://deeplearning4j.org/) among others. Another important deep learning framework is [pytorch](https://pytorch.org/).\n",
    "\n",
    "\n",
    "### Keras with sample data from the Dogs and cats recognition challenge\n",
    "\n",
    "In this part, you will have to use Keras in order to\n",
    " + Build and train a small network from scratch\n",
    " + Use the bottleneck features of a pre-trained network\n",
    " + Fine-tune the top layers of a pre-trained network\n",
    "\n",
    "The work will be done on a **sample dataset** (sampleDeep) of the initial Kaggle challenge that contains a training set composed of 1000 images of cats and 1000 images of dogs and a validation set, used to evaluate our models, that contains 400 additional samples from each class.\n",
    "\n",
    "At the end, you could apply this approach on the whole dataset but it will imply to have other computing ressources than just your own computer.\n",
    "\n"
   ]
  },
  {
   "cell_type": "markdown",
   "metadata": {},
   "source": [
    "#### Data preparation and loading\n",
    "\n",
    "As for the previous classifiers, data preparation is also required when working with convolutional neural networks and deep learning models. You will use the [*ImageDataGenerator class*](https://keras.io/preprocessing/image/) that defines the configuration for image data preparation but also for data augmentation, a step often necessary for deep learning. In the code below, you will have to create and configure an `ImageDataGenerator` and to fit it on your data. In this example, we will use the sample dataset of the Dogs and Cats challenge. We consider that you have a training directory and a validation directory setup in this manner :\n",
    "\n",
    "    train_dir/\n",
    "        dog/\n",
    "        cat/\n",
    "    val_dir/\n",
    "        dog/\n",
    "        cat\n",
    " This is the case of the `sampleDeep` dataset.\n",
    " "
   ]
  },
  {
   "cell_type": "code",
   "execution_count": 1,
   "metadata": {},
   "outputs": [
    {
     "name": "stdout",
     "output_type": "stream",
     "text": [
      "Found 2000 images belonging to 2 classes.\n",
      "Found 800 images belonging to 2 classes.\n"
     ]
    }
   ],
   "source": [
    "# without augmentation, only rescaling\n",
    "\n",
    "from keras.preprocessing.image import ImageDataGenerator\n",
    "\n",
    "# definition of the number of samples propagated through the network at each step\n",
    "batch_size = 16\n",
    "\n",
    "# dimensions of our images.\n",
    "img_width, img_height = 150, 150\n",
    "\n",
    "train_data_dir = 'data/DogCatChallenge/sampleDeep/train'\n",
    "validation_data_dir = 'data/DogCatChallenge/sampleDeep/valid'\n",
    "\n",
    "# create and configure an ImageDataGenerator for the training data with only rescaling to 0..1\n",
    "train_datagen =  ImageDataGenerator(rescale=1./255)\n",
    "\n",
    "train_generator = train_datagen.flow_from_directory(\n",
    "        train_data_dir,  # the target directory\n",
    "        target_size=(img_width, img_height),  # all images will be resized to 150x150\n",
    "        batch_size=batch_size) \n",
    "\n",
    "# create and configure an ImageDataGenerator for the validation data with only rescaling to 0..1\n",
    "test_datagen =  ImageDataGenerator(rescale=1./255)\n",
    "\n",
    "valid_generator = test_datagen.flow_from_directory(\n",
    "        validation_data_dir,  # the target directory\n",
    "        target_size=(img_width, img_height),  # all images will be resized to 150x150\n",
    "        batch_size=batch_size) \n",
    "\n"
   ]
  },
  {
   "cell_type": "markdown",
   "metadata": {},
   "source": [
    "Only few training examples are available in the `sampleDeep` dataset. In order to make the most of these training examples, a current approach is to **augment** them via a number of random transformations, so that our model would never see twice the exact same picture. This augmentation step helps prevent overfitting and helps the model generalize better.\n"
   ]
  },
  {
   "cell_type": "code",
   "execution_count": 2,
   "metadata": {},
   "outputs": [
    {
     "name": "stdout",
     "output_type": "stream",
     "text": [
      "Found 2000 images belonging to 2 classes.\n",
      "Found 800 images belonging to 2 classes.\n",
      "(16, 2)\n",
      "(16, 150, 150, 3)\n"
     ]
    }
   ],
   "source": [
    "# with augmentation \n",
    "\n",
    "from keras.preprocessing.image import ImageDataGenerator\n",
    "\n",
    "# definition of the number of samples propagated through the network at each step\n",
    "batch_size = 16\n",
    "\n",
    "# dimensions of our images.\n",
    "img_width, img_height = 150, 150\n",
    "\n",
    "train_data_dir = 'data/DogCatChallenge/sampleDeep/train'\n",
    "validation_data_dir = 'data/DogCatChallenge/sampleDeep/valid'\n",
    "\n",
    "# Create and configure an ImageDataGenerator for the training data\n",
    "train_datagen =  ImageDataGenerator(rescale=1./255, width_shift_range=[-200,200], height_shift_range=0.5, zoom_range=0.4, rotation_range=30, shear_range=20)\n",
    "# TO DO :  augmentation of the training data using rotation, horizontal and vertical shift, shearing tranformation, zooming \n",
    "train_generator = train_datagen.flow_from_directory(\n",
    "    train_data_dir,  # the target directory\n",
    "    target_size=(img_width, img_height),  # all images will be resized to 150x150\n",
    "    \n",
    "    batch_size=batch_size)\n",
    "\n",
    "\n",
    "\n",
    "# TO COMPLETE\n",
    "\n",
    "# TO DO : Create and configure an ImageDataGenerator for the validation data\n",
    "# Only rescaling for validation data\n",
    "\n",
    "test_datagen =  ImageDataGenerator(rescale=1./255)\n",
    "\n",
    "valid_generator = test_datagen.flow_from_directory(\n",
    "    validation_data_dir,  # the target directory\n",
    "    target_size=(img_width, img_height),  # all images will be resized to 150x150\n",
    "    \n",
    "    batch_size=batch_size)\n",
    "\n",
    "\n",
    "# TO DO : generator that will read pictures found\n",
    "# in the train dataset directory and that will indefinitely generate\n",
    "# batches of augmented image data\n",
    "\n",
    "# TO COMPLETE\n",
    "\n",
    "# TO DO : Similar generator for validation data\n",
    "\n",
    "# TO COMPLETE\n",
    "\n",
    "print((next(train_generator))[1].shape)\n",
    "print((next(train_generator))[0].shape)"
   ]
  },
  {
   "cell_type": "markdown",
   "metadata": {},
   "source": [
    "## Build a model from scratch\n",
    "\n",
    "Models can be build easily with the Keras API. Here we will use the Sequential model API :\n",
    "+ [https://keras.io/getting-started/sequential-model-guide/](https://keras.io/getting-started/sequential-model-guide/)\n",
    "\n",
    "\n",
    "Here, you will build a convolutional neural network which is ,by design, one of the best models available for most \"perceptual\" problems (such as image classification), even with very little data to learn from.\n",
    "\n",
    "In the code below, you have to build a model composed of 3 convolution layers with a ReLU activation and followed by max-pooling layers.\n",
    "In order to write the code, have a look on the [documentation on the different kinds of layers available in Keras](https://keras.io/layers/about-keras-layers/)\n",
    "\n",
    "\n"
   ]
  },
  {
   "cell_type": "code",
   "execution_count": 3,
   "metadata": {
    "scrolled": false
   },
   "outputs": [],
   "source": [
    "from keras.models import Sequential\n",
    "from keras.layers import Conv2D, MaxPooling2D\n",
    "from keras.layers import Activation, Dropout, Flatten, Dense\n",
    "from tensorflow.keras.optimizers import RMSprop"
   ]
  },
  {
   "cell_type": "code",
   "execution_count": 15,
   "metadata": {},
   "outputs": [],
   "source": [
    "model = Sequential()\n",
    "\n",
    "# First convolutional layer\n",
    "model.add(Conv2D(filters=32, kernel_size = (3,3), padding = 'same', activation='relu', input_shape = (150,150,3)))\n",
    "model.add(MaxPooling2D(pool_size = (2,2), strides=2))\n",
    "\n",
    "# 2nd conv layer\n",
    "model.add(Conv2D(filters=64, kernel_size = (3,3), padding = 'same', activation='relu'))\n",
    "model.add(MaxPooling2D(pool_size = (2,2), strides=2))\n",
    "\n",
    "# 3rd conv layer\n",
    "model.add(Conv2D(filters=128, kernel_size = (3,3), padding = 'same', activation='relu'))\n",
    "model.add(MaxPooling2D(pool_size = (2,2), strides=2))\n",
    "model.add(Flatten())\n",
    "model.add(Dense(256, activation=\"relu\"))\n",
    "model.add(Dense(512, activation=\"relu\"))\n",
    "\n",
    "# single unit and sigmoid activation, which is perfect for a binary classification. \n",
    "\n",
    "model.add(Dense(1))\n",
    "model.add(Activation('sigmoid'))\n",
    "\n",
    "# Use of the binary_crossentropy loss to train our model, of the rmsprop optimizer and the accuracy metrics\n",
    "optimiser = RMSprop(learning_rate=0.001)\n",
    "model.compile(optimizer=optimiser, loss=\"binary_crossentropy\", metrics=['accuracy'])\n"
   ]
  },
  {
   "cell_type": "markdown",
   "metadata": {},
   "source": [
    "### Visualizing a model\n",
    "\n",
    "It may be sometimes useful to visualize in a schematic way a model architecture. You can do it with different approaches on Keras :\n",
    "\n",
    "+ using the `plot_model` built-in function : see [this small tutorial](https://www.machinecurve.com/index.php/2019/10/07/how-to-visualize-a-model-with-keras/) or the [official documentation](https://keras.io/api/utils/model_plotting_utils/).\n",
    "+ using [TensorBoard](https://www.tensorflow.org/tensorboard) if you are using the tensorflow backend on Keras. You can also find some documentations on this small [tutorial](https://www.machinecurve.com/index.php/2019/12/03/visualize-keras-models-overview-of-visualization-methods-tools/#visualizing-model-architecture-tensorboard)"
   ]
  },
  {
   "cell_type": "code",
   "execution_count": 5,
   "metadata": {
    "scrolled": true
   },
   "outputs": [
    {
     "name": "stdout",
     "output_type": "stream",
     "text": [
      "Model: \"sequential\"\n",
      "_________________________________________________________________\n",
      "Layer (type)                 Output Shape              Param #   \n",
      "=================================================================\n",
      "conv2d (Conv2D)              (None, 150, 150, 32)      896       \n",
      "_________________________________________________________________\n",
      "max_pooling2d (MaxPooling2D) (None, 75, 75, 32)        0         \n",
      "_________________________________________________________________\n",
      "conv2d_1 (Conv2D)            (None, 75, 75, 64)        18496     \n",
      "_________________________________________________________________\n",
      "max_pooling2d_1 (MaxPooling2 (None, 37, 37, 64)        0         \n",
      "_________________________________________________________________\n",
      "conv2d_2 (Conv2D)            (None, 37, 37, 128)       73856     \n",
      "_________________________________________________________________\n",
      "max_pooling2d_2 (MaxPooling2 (None, 18, 18, 128)       0         \n",
      "_________________________________________________________________\n",
      "flatten (Flatten)            (None, 41472)             0         \n",
      "_________________________________________________________________\n",
      "dense (Dense)                (None, 256)               10617088  \n",
      "_________________________________________________________________\n",
      "dense_1 (Dense)              (None, 512)               131584    \n",
      "_________________________________________________________________\n",
      "dense_2 (Dense)              (None, 1)                 513       \n",
      "_________________________________________________________________\n",
      "activation (Activation)      (None, 1)                 0         \n",
      "=================================================================\n",
      "Total params: 10,842,433\n",
      "Trainable params: 10,842,433\n",
      "Non-trainable params: 0\n",
      "_________________________________________________________________\n"
     ]
    }
   ],
   "source": [
    "model.summary()"
   ]
  },
  {
   "cell_type": "code",
   "execution_count": 7,
   "metadata": {},
   "outputs": [
    {
     "name": "stdout",
     "output_type": "stream",
     "text": [
      "The tensorboard extension is already loaded. To reload it, use:\n",
      "  %reload_ext tensorboard\n"
     ]
    }
   ],
   "source": [
    "# Load the TensorBoard notebook extension\n",
    "%load_ext tensorboard\n",
    "import tensorflow as tf\n",
    "import datetime"
   ]
  },
  {
   "cell_type": "code",
   "execution_count": 8,
   "metadata": {},
   "outputs": [],
   "source": [
    "log_dir = \"logs/fit/\" + datetime.datetime.now().strftime(\"%Y%m%d-%H%M%S\")\n",
    "tensorboard_callback = tf.keras.callbacks.TensorBoard(log_dir=log_dir, histogram_freq=1)"
   ]
  },
  {
   "cell_type": "markdown",
   "metadata": {},
   "source": [
    "### Training a model\n",
    "\n",
    "We can now use some defined generators to train your build model."
   ]
  },
  {
   "cell_type": "code",
   "execution_count": 9,
   "metadata": {},
   "outputs": [
    {
     "name": "stdout",
     "output_type": "stream",
     "text": [
      "Found 2000 images belonging to 2 classes.\n",
      "Found 800 images belonging to 2 classes.\n",
      "125/125 [==============================] - 84s 663ms/step - loss: 0.7774 - accuracy: 0.5100 - val_loss: 0.6778 - val_accuracy: 0.5688\n"
     ]
    }
   ],
   "source": [
    "# augmentation configuration use for training:\n",
    "train_datagen = ImageDataGenerator(\n",
    "    rescale=1. / 255,\n",
    "    shear_range=0.2,\n",
    "    zoom_range=0.2,\n",
    "    horizontal_flip=True)\n",
    "\n",
    "# augmentation configuration use for testing:\n",
    "# only rescaling\n",
    "test_datagen = ImageDataGenerator(rescale=1. / 255)\n",
    "\n",
    "# fit the generator to your data\n",
    "train_generator = train_datagen.flow_from_directory(\n",
    "    train_data_dir,\n",
    "    target_size=(img_width, img_height),\n",
    "    batch_size=batch_size,\n",
    "    class_mode='binary')\n",
    "\n",
    "validation_generator = test_datagen.flow_from_directory(\n",
    "    validation_data_dir,\n",
    "    target_size=(img_width, img_height),\n",
    "    batch_size=batch_size,\n",
    "    class_mode='binary')\n",
    "\n",
    "# model training\n",
    "model.fit(x=train_generator, batch_size=batch_size, validation_data=validation_generator, callbacks=[tensorboard_callback])\n",
    "\n",
    "# saving the learned model\n",
    "model.save_weights('first_try.h5')\n"
   ]
  },
  {
   "cell_type": "code",
   "execution_count": 10,
   "metadata": {},
   "outputs": [
    {
     "data": {
      "text/html": [
       "\n",
       "      <iframe id=\"tensorboard-frame-5ca82a4443501fb3\" width=\"100%\" height=\"800\" frameborder=\"0\">\n",
       "      </iframe>\n",
       "      <script>\n",
       "        (function() {\n",
       "          const frame = document.getElementById(\"tensorboard-frame-5ca82a4443501fb3\");\n",
       "          const url = new URL(\"/\", window.location);\n",
       "          const port = 6006;\n",
       "          if (port) {\n",
       "            url.port = port;\n",
       "          }\n",
       "          frame.src = url;\n",
       "        })();\n",
       "      </script>\n",
       "    "
      ],
      "text/plain": [
       "<IPython.core.display.HTML object>"
      ]
     },
     "metadata": {},
     "output_type": "display_data"
    }
   ],
   "source": [
    "%tensorboard --logdir logs/fit"
   ]
  },
  {
   "cell_type": "markdown",
   "metadata": {},
   "source": [
    "#### Carefully have a look on the results and on the diffferent metrics and their obtained values. What is your interpretation of the results ?"
   ]
  },
  {
   "cell_type": "markdown",
   "metadata": {},
   "source": [
    "Accuracy: 65% pas top\n",
    "Loss: 63%"
   ]
  },
  {
   "cell_type": "markdown",
   "metadata": {},
   "source": [
    "You can now apply this model to any new image. For instance, in the code below, you have to apply the model on different images of the test dataset. "
   ]
  },
  {
   "cell_type": "code",
   "execution_count": 11,
   "metadata": {},
   "outputs": [
    {
     "data": {
      "text/plain": [
       "<matplotlib.image.AxesImage at 0x7f8a300da370>"
      ]
     },
     "execution_count": 11,
     "metadata": {},
     "output_type": "execute_result"
    },
    {
     "data": {
      "image/png": "[encoded data removed]",
      "text/plain": [
       "<Figure size 432x288 with 1 Axes>"
      ]
     },
     "metadata": {
      "needs_background": "light"
     },
     "output_type": "display_data"
    }
   ],
   "source": [
    "%matplotlib inline\n",
    "\n",
    "from skimage import data, io\n",
    "from matplotlib.pyplot import imshow\n",
    "from keras.preprocessing import image\n",
    "import numpy as np\n",
    "\n",
    "img_path = 'data/DogCatData/test1/10002.jpg'\n",
    "\n",
    "ima=io.imread(img_path)\n",
    "imshow(ima)"
   ]
  },
  {
   "cell_type": "code",
   "execution_count": 39,
   "metadata": {},
   "outputs": [
    {
     "name": "stdout",
     "output_type": "stream",
     "text": [
      "(150, 150, 3)\n",
      "(16, 150, 150, 3)\n",
      "Prediction\n"
     ]
    },
    {
     "data": {
      "text/plain": [
       "array([[1.],\n",
       "       [1.],\n",
       "       [1.],\n",
       "       [1.],\n",
       "       [1.],\n",
       "       [1.],\n",
       "       [1.],\n",
       "       [1.],\n",
       "       [1.],\n",
       "       [1.],\n",
       "       [1.],\n",
       "       [1.],\n",
       "       [1.],\n",
       "       [1.],\n",
       "       [1.],\n",
       "       [1.]], dtype=float32)"
      ]
     },
     "execution_count": 39,
     "metadata": {},
     "output_type": "execute_result"
    }
   ],
   "source": [
    "# image loading and transformation to keras\n",
    "print(ima.shape)\n",
    "image_new = [ima for k in range (16)]\n",
    "image_new=np.array(image_new)\n",
    "print(image_new.shape)\n",
    "\n",
    "\n",
    "# prediction on the image\n",
    "print(\"Prediction\")\n",
    "model.predict(image_new)"
   ]
  },
  {
   "cell_type": "code",
   "execution_count": 67,
   "metadata": {},
   "outputs": [
    {
     "name": "stdout",
     "output_type": "stream",
     "text": [
      "Prediction\n"
     ]
    },
    {
     "data": {
      "text/plain": [
       "array([[1.],\n",
       "       [1.],\n",
       "       [1.],\n",
       "       [1.],\n",
       "       [1.],\n",
       "       [1.],\n",
       "       [1.],\n",
       "       [1.],\n",
       "       [1.],\n",
       "       [1.],\n",
       "       [1.],\n",
       "       [1.],\n",
       "       [1.],\n",
       "       [1.],\n",
       "       [1.],\n",
       "       [1.]], dtype=float32)"
      ]
     },
     "execution_count": 67,
     "metadata": {},
     "output_type": "execute_result"
    }
   ],
   "source": [
    "from tensorflow.keras.preprocessing import image\n",
    "from tensorflow.keras.applications.vgg16 import preprocess_input\n",
    "\n",
    "img_path = 'data/DogCatData/test1/10002.jpg'\n",
    "img = image.load_img(img_path, target_size=(150, 150))\n",
    "x = image.img_to_array(img)\n",
    "x = np.expand_dims(x, axis=0)\n",
    "x = preprocess_input(x)\n",
    "\n",
    "# prediction on the image\n",
    "print(\"Prediction\")\n",
    "model.predict(image_new)"
   ]
  },
  {
   "cell_type": "markdown",
   "metadata": {},
   "source": [
    "## Use a pretrained Convnet model\n",
    "\n",
    "In practice, very few people train an entire Convolutional Network from scratch (with random initialization), because it is relatively rare to have a dataset of sufficient size. Instead, in image classification, it is common to use networks pre-trained on a large dataset (such as ImageNet)  and to use it either as an initialization of as a fixed feature extractor for the task of interest (**transfer learning**). Indeed, these networks have already learned features that are useful for most computer vision problems, and leveraging such features would allow us to reach a better accuracy than any method that would only rely on the available data.\n",
    "\n",
    "Different strategies can be used in transfer learning scenarios :\n",
    "\n",
    "1. The ConvNet, trained on a large image dataset such as Imagenet, is used as a fixed feature extractor. In this case, the pipeline consists in taking the pre-trained ConvNet, removing the last fully connected layer and that by treating the rest of the ConvNet architecture as a fixed feature extractor for the new dataset\n",
    "2. Fine Tuning of the ConvNet. In this case,  the weights of a part of the pretrained network are fine-tuned by continuing the backpropagation. As it as been observed that the first features of a ConvNet contain more generic features (e.g. edge detectors or color blob detectors) that should be useful to many tasks and that later layers become progressively more specific to the details of the classes contained in the original dataset, only a higher portion of the network is fine-tuned.\n",
    "\n",
    "\n",
    "### ConvNet as a fixed feature extractor   \n",
    "\n",
    "In our case, the ImageNet dataset contains several \"cat\" classes (persian cat, siamese cat...) and many \"dog\" classes among its total of 1000 classes. As a consequence any model pre-trained on ImageNet will already have learned features that are relevant to our classification problem. \n",
    "\n",
    "In particular, we will use the VGG16 architecture which won the 2014 Imagenet competition, and is a very simple model to create and understand. The VGG Imagenet team created both a larger, slower, slightly more accurate model (VGG 19) and a smaller, faster model (VGG 16). We will be using VGG 16 since the much slower performance of VGG19 is generally not worth the very minor improvement in accuracy.\n",
    "\n",
    "![VGG16](images/vgg16.png)\n",
    "\n",
    "Source : [https://blog.heuritech.com/2016/02/29/a-brief-report-of-the-heuritech-deep-learning-meetup-5/](https://blog.heuritech.com/2016/02/29/a-brief-report-of-the-heuritech-deep-learning-meetup-5/)\n",
    "\n",
    "In the code below, the strategy will consist in instantiating only the convolutional part of the model (using the *include_top* argument) (see the [Keras documentation on VGG16](https://keras.io/applications/#vgg16)) and in running this model on our own training and validation data once by recording the output in two numpy arrays. Then, you will train a small fully-connected model on top of the stored features.\n",
    "\n",
    "Some references :\n",
    " + VGG models : [http://www.robots.ox.ac.uk/~vgg/research/very_deep/](http://www.robots.ox.ac.uk/~vgg/research/very_deep/)\n",
    " \n",
    "\n"
   ]
  },
  {
   "cell_type": "code",
   "execution_count": 48,
   "metadata": {},
   "outputs": [],
   "source": [
    "import numpy as np\n",
    "from keras.preprocessing.image import ImageDataGenerator\n",
    "from keras.models import Sequential\n",
    "from keras.layers import Dropout, Flatten, Dense\n",
    "from tensorflow.keras.applications import VGG16\n",
    "\n",
    "\n",
    "# dimensions of our images.\n",
    "img_width, img_height = 150, 150\n",
    "\n",
    "top_model_weights_path = 'bottleneck_fc_model.h5'\n",
    "train_data_dir = 'data/DogCatChallenge/sampleDeep/train'\n",
    "validation_data_dir = 'data/DogCatChallenge/sampleDeep/valid'\n",
    "nb_train_samples = 2000\n",
    "nb_validation_samples = 800\n",
    "epochs = 50\n",
    "batch_size = 16"
   ]
  },
  {
   "cell_type": "code",
   "execution_count": 85,
   "metadata": {},
   "outputs": [
    {
     "name": "stdout",
     "output_type": "stream",
     "text": [
      "Found 2000 images belonging to 2 classes.\n",
      "En cours de prédiction...\n"
     ]
    },
    {
     "ename": "KeyboardInterrupt",
     "evalue": "",
     "output_type": "error",
     "traceback": [
      "\u001b[0;31m---------------------------------------------------------------------------\u001b[0m",
      "\u001b[0;31mKeyboardInterrupt\u001b[0m                         Traceback (most recent call last)",
      "\u001b[0;32m<ipython-input-85-95836d67a0fb>\u001b[0m in \u001b[0;36m<module>\u001b[0;34m\u001b[0m\n\u001b[1;32m     17\u001b[0m \u001b[0;31m# from the training data generator and return them as a numpy array that we can saved\u001b[0m\u001b[0;34m\u001b[0m\u001b[0;34m\u001b[0m\u001b[0;34m\u001b[0m\u001b[0m\n\u001b[1;32m     18\u001b[0m \u001b[0mprint\u001b[0m\u001b[0;34m(\u001b[0m\u001b[0;34m'En cours de prédiction...'\u001b[0m\u001b[0;34m)\u001b[0m\u001b[0;34m\u001b[0m\u001b[0;34m\u001b[0m\u001b[0m\n\u001b[0;32m---> 19\u001b[0;31m \u001b[0mpredictions\u001b[0m \u001b[0;34m=\u001b[0m \u001b[0mnetwork\u001b[0m\u001b[0;34m.\u001b[0m\u001b[0mpredict\u001b[0m\u001b[0;34m(\u001b[0m\u001b[0mgenerator\u001b[0m\u001b[0;34m)\u001b[0m\u001b[0;34m\u001b[0m\u001b[0;34m\u001b[0m\u001b[0m\n\u001b[0m\u001b[1;32m     20\u001b[0m \u001b[0mprint\u001b[0m\u001b[0;34m(\u001b[0m\u001b[0;34m'Prédictions réalisées'\u001b[0m\u001b[0;34m)\u001b[0m\u001b[0;34m\u001b[0m\u001b[0;34m\u001b[0m\u001b[0m\n\u001b[1;32m     21\u001b[0m \u001b[0mbottleneck_features_train\u001b[0m \u001b[0;34m=\u001b[0m \u001b[0mnp\u001b[0m\u001b[0;34m.\u001b[0m\u001b[0marray\u001b[0m\u001b[0;34m(\u001b[0m\u001b[0mpredictions\u001b[0m\u001b[0;34m)\u001b[0m\u001b[0;34m\u001b[0m\u001b[0;34m\u001b[0m\u001b[0m\n",
      "\u001b[0;32m~/opt/anaconda3/lib/python3.8/site-packages/keras/engine/training.py\u001b[0m in \u001b[0;36mpredict\u001b[0;34m(self, x, batch_size, verbose, steps, callbacks, max_queue_size, workers, use_multiprocessing)\u001b[0m\n\u001b[1;32m   1749\u001b[0m           \u001b[0;32mfor\u001b[0m \u001b[0mstep\u001b[0m \u001b[0;32min\u001b[0m \u001b[0mdata_handler\u001b[0m\u001b[0;34m.\u001b[0m\u001b[0msteps\u001b[0m\u001b[0;34m(\u001b[0m\u001b[0;34m)\u001b[0m\u001b[0;34m:\u001b[0m\u001b[0;34m\u001b[0m\u001b[0;34m\u001b[0m\u001b[0m\n\u001b[1;32m   1750\u001b[0m             \u001b[0mcallbacks\u001b[0m\u001b[0;34m.\u001b[0m\u001b[0mon_predict_batch_begin\u001b[0m\u001b[0;34m(\u001b[0m\u001b[0mstep\u001b[0m\u001b[0;34m)\u001b[0m\u001b[0;34m\u001b[0m\u001b[0;34m\u001b[0m\u001b[0m\n\u001b[0;32m-> 1751\u001b[0;31m             \u001b[0mtmp_batch_outputs\u001b[0m \u001b[0;34m=\u001b[0m \u001b[0mself\u001b[0m\u001b[0;34m.\u001b[0m\u001b[0mpredict_function\u001b[0m\u001b[0;34m(\u001b[0m\u001b[0miterator\u001b[0m\u001b[0;34m)\u001b[0m\u001b[0;34m\u001b[0m\u001b[0;34m\u001b[0m\u001b[0m\n\u001b[0m\u001b[1;32m   1752\u001b[0m             \u001b[0;32mif\u001b[0m \u001b[0mdata_handler\u001b[0m\u001b[0;34m.\u001b[0m\u001b[0mshould_sync\u001b[0m\u001b[0;34m:\u001b[0m\u001b[0;34m\u001b[0m\u001b[0;34m\u001b[0m\u001b[0m\n\u001b[1;32m   1753\u001b[0m               \u001b[0mcontext\u001b[0m\u001b[0;34m.\u001b[0m\u001b[0masync_wait\u001b[0m\u001b[0;34m(\u001b[0m\u001b[0;34m)\u001b[0m\u001b[0;34m\u001b[0m\u001b[0;34m\u001b[0m\u001b[0m\n",
      "\u001b[0;32m~/opt/anaconda3/lib/python3.8/site-packages/tensorflow/python/eager/def_function.py\u001b[0m in \u001b[0;36m__call__\u001b[0;34m(self, *args, **kwds)\u001b[0m\n\u001b[1;32m    883\u001b[0m \u001b[0;34m\u001b[0m\u001b[0m\n\u001b[1;32m    884\u001b[0m       \u001b[0;32mwith\u001b[0m \u001b[0mOptionalXlaContext\u001b[0m\u001b[0;34m(\u001b[0m\u001b[0mself\u001b[0m\u001b[0;34m.\u001b[0m\u001b[0m_jit_compile\u001b[0m\u001b[0;34m)\u001b[0m\u001b[0;34m:\u001b[0m\u001b[0;34m\u001b[0m\u001b[0;34m\u001b[0m\u001b[0m\n\u001b[0;32m--> 885\u001b[0;31m         \u001b[0mresult\u001b[0m \u001b[0;34m=\u001b[0m \u001b[0mself\u001b[0m\u001b[0;34m.\u001b[0m\u001b[0m_call\u001b[0m\u001b[0;34m(\u001b[0m\u001b[0;34m*\u001b[0m\u001b[0margs\u001b[0m\u001b[0;34m,\u001b[0m \u001b[0;34m**\u001b[0m\u001b[0mkwds\u001b[0m\u001b[0;34m)\u001b[0m\u001b[0;34m\u001b[0m\u001b[0;34m\u001b[0m\u001b[0m\n\u001b[0m\u001b[1;32m    886\u001b[0m \u001b[0;34m\u001b[0m\u001b[0m\n\u001b[1;32m    887\u001b[0m       \u001b[0mnew_tracing_count\u001b[0m \u001b[0;34m=\u001b[0m \u001b[0mself\u001b[0m\u001b[0;34m.\u001b[0m\u001b[0mexperimental_get_tracing_count\u001b[0m\u001b[0;34m(\u001b[0m\u001b[0;34m)\u001b[0m\u001b[0;34m\u001b[0m\u001b[0;34m\u001b[0m\u001b[0m\n",
      "\u001b[0;32m~/opt/anaconda3/lib/python3.8/site-packages/tensorflow/python/eager/def_function.py\u001b[0m in \u001b[0;36m_call\u001b[0;34m(self, *args, **kwds)\u001b[0m\n\u001b[1;32m    922\u001b[0m       \u001b[0;31m# In this case we have not created variables on the first call. So we can\u001b[0m\u001b[0;34m\u001b[0m\u001b[0;34m\u001b[0m\u001b[0;34m\u001b[0m\u001b[0m\n\u001b[1;32m    923\u001b[0m       \u001b[0;31m# run the first trace but we should fail if variables are created.\u001b[0m\u001b[0;34m\u001b[0m\u001b[0;34m\u001b[0m\u001b[0;34m\u001b[0m\u001b[0m\n\u001b[0;32m--> 924\u001b[0;31m       \u001b[0mresults\u001b[0m \u001b[0;34m=\u001b[0m \u001b[0mself\u001b[0m\u001b[0;34m.\u001b[0m\u001b[0m_stateful_fn\u001b[0m\u001b[0;34m(\u001b[0m\u001b[0;34m*\u001b[0m\u001b[0margs\u001b[0m\u001b[0;34m,\u001b[0m \u001b[0;34m**\u001b[0m\u001b[0mkwds\u001b[0m\u001b[0;34m)\u001b[0m\u001b[0;34m\u001b[0m\u001b[0;34m\u001b[0m\u001b[0m\n\u001b[0m\u001b[1;32m    925\u001b[0m       \u001b[0;32mif\u001b[0m \u001b[0mself\u001b[0m\u001b[0;34m.\u001b[0m\u001b[0m_created_variables\u001b[0m \u001b[0;32mand\u001b[0m \u001b[0;32mnot\u001b[0m \u001b[0mALLOW_DYNAMIC_VARIABLE_CREATION\u001b[0m\u001b[0;34m:\u001b[0m\u001b[0;34m\u001b[0m\u001b[0;34m\u001b[0m\u001b[0m\n\u001b[1;32m    926\u001b[0m         raise ValueError(\"Creating variables on a non-first call to a function\"\n",
      "\u001b[0;32m~/opt/anaconda3/lib/python3.8/site-packages/tensorflow/python/eager/function.py\u001b[0m in \u001b[0;36m__call__\u001b[0;34m(self, *args, **kwargs)\u001b[0m\n\u001b[1;32m   3037\u001b[0m       (graph_function,\n\u001b[1;32m   3038\u001b[0m        filtered_flat_args) = self._maybe_define_function(args, kwargs)\n\u001b[0;32m-> 3039\u001b[0;31m     return graph_function._call_flat(\n\u001b[0m\u001b[1;32m   3040\u001b[0m         filtered_flat_args, captured_inputs=graph_function.captured_inputs)  # pylint: disable=protected-access\n\u001b[1;32m   3041\u001b[0m \u001b[0;34m\u001b[0m\u001b[0m\n",
      "\u001b[0;32m~/opt/anaconda3/lib/python3.8/site-packages/tensorflow/python/eager/function.py\u001b[0m in \u001b[0;36m_call_flat\u001b[0;34m(self, args, captured_inputs, cancellation_manager)\u001b[0m\n\u001b[1;32m   1961\u001b[0m         and executing_eagerly):\n\u001b[1;32m   1962\u001b[0m       \u001b[0;31m# No tape is watching; skip to running the function.\u001b[0m\u001b[0;34m\u001b[0m\u001b[0;34m\u001b[0m\u001b[0;34m\u001b[0m\u001b[0m\n\u001b[0;32m-> 1963\u001b[0;31m       return self._build_call_outputs(self._inference_function.call(\n\u001b[0m\u001b[1;32m   1964\u001b[0m           ctx, args, cancellation_manager=cancellation_manager))\n\u001b[1;32m   1965\u001b[0m     forward_backward = self._select_forward_and_backward_functions(\n",
      "\u001b[0;32m~/opt/anaconda3/lib/python3.8/site-packages/tensorflow/python/eager/function.py\u001b[0m in \u001b[0;36mcall\u001b[0;34m(self, ctx, args, cancellation_manager)\u001b[0m\n\u001b[1;32m    589\u001b[0m       \u001b[0;32mwith\u001b[0m \u001b[0m_InterpolateFunctionError\u001b[0m\u001b[0;34m(\u001b[0m\u001b[0mself\u001b[0m\u001b[0;34m)\u001b[0m\u001b[0;34m:\u001b[0m\u001b[0;34m\u001b[0m\u001b[0;34m\u001b[0m\u001b[0m\n\u001b[1;32m    590\u001b[0m         \u001b[0;32mif\u001b[0m \u001b[0mcancellation_manager\u001b[0m \u001b[0;32mis\u001b[0m \u001b[0;32mNone\u001b[0m\u001b[0;34m:\u001b[0m\u001b[0;34m\u001b[0m\u001b[0;34m\u001b[0m\u001b[0m\n\u001b[0;32m--> 591\u001b[0;31m           outputs = execute.execute(\n\u001b[0m\u001b[1;32m    592\u001b[0m               \u001b[0mstr\u001b[0m\u001b[0;34m(\u001b[0m\u001b[0mself\u001b[0m\u001b[0;34m.\u001b[0m\u001b[0msignature\u001b[0m\u001b[0;34m.\u001b[0m\u001b[0mname\u001b[0m\u001b[0;34m)\u001b[0m\u001b[0;34m,\u001b[0m\u001b[0;34m\u001b[0m\u001b[0;34m\u001b[0m\u001b[0m\n\u001b[1;32m    593\u001b[0m               \u001b[0mnum_outputs\u001b[0m\u001b[0;34m=\u001b[0m\u001b[0mself\u001b[0m\u001b[0;34m.\u001b[0m\u001b[0m_num_outputs\u001b[0m\u001b[0;34m,\u001b[0m\u001b[0;34m\u001b[0m\u001b[0;34m\u001b[0m\u001b[0m\n",
      "\u001b[0;32m~/opt/anaconda3/lib/python3.8/site-packages/tensorflow/python/eager/execute.py\u001b[0m in \u001b[0;36mquick_execute\u001b[0;34m(op_name, num_outputs, inputs, attrs, ctx, name)\u001b[0m\n\u001b[1;32m     57\u001b[0m   \u001b[0;32mtry\u001b[0m\u001b[0;34m:\u001b[0m\u001b[0;34m\u001b[0m\u001b[0;34m\u001b[0m\u001b[0m\n\u001b[1;32m     58\u001b[0m     \u001b[0mctx\u001b[0m\u001b[0;34m.\u001b[0m\u001b[0mensure_initialized\u001b[0m\u001b[0;34m(\u001b[0m\u001b[0;34m)\u001b[0m\u001b[0;34m\u001b[0m\u001b[0;34m\u001b[0m\u001b[0m\n\u001b[0;32m---> 59\u001b[0;31m     tensors = pywrap_tfe.TFE_Py_Execute(ctx._handle, device_name, op_name,\n\u001b[0m\u001b[1;32m     60\u001b[0m                                         inputs, attrs, num_outputs)\n\u001b[1;32m     61\u001b[0m   \u001b[0;32mexcept\u001b[0m \u001b[0mcore\u001b[0m\u001b[0;34m.\u001b[0m\u001b[0m_NotOkStatusException\u001b[0m \u001b[0;32mas\u001b[0m \u001b[0me\u001b[0m\u001b[0;34m:\u001b[0m\u001b[0;34m\u001b[0m\u001b[0;34m\u001b[0m\u001b[0m\n",
      "\u001b[0;31mKeyboardInterrupt\u001b[0m: "
     ]
    }
   ],
   "source": [
    "datagen = ImageDataGenerator(rescale=1. / 255)\n",
    "\n",
    "# build and load the VGG16 network without the fully connected layers\n",
    "network=VGG16(\n",
    "    include_top=False,\n",
    "    weights='imagenet')\n",
    "\n",
    "# preparation of the training data\n",
    "generator = datagen.flow_from_directory(\n",
    "    train_data_dir,\n",
    "    target_size=(img_width, img_height),\n",
    "    batch_size=batch_size,\n",
    "    class_mode=None,\n",
    "    shuffle=False)\n",
    "\n",
    "# Generation of the predictions for the input samples\n",
    "# from the training data generator and return them as a numpy array that we can saved\n",
    "print('En cours de prédiction...')\n",
    "predictions = network.predict(generator)\n",
    "print('Prédictions réalisées')\n",
    "bottleneck_features_train = np.array(predictions)\n",
    "np.save(open('bottleneck_features_train.npy', 'wb'),\n",
    "        bottleneck_features_train)\n",
    "print('Et Sauvegardées')"
   ]
  },
  {
   "cell_type": "code",
   "execution_count": null,
   "metadata": {},
   "outputs": [],
   "source": [
    "# preparation of the validation data\n",
    "valid_generator = datagen.flow_from_directory(\n",
    "    validation_data_dir,\n",
    "    target_size=(img_width, img_height),\n",
    "    batch_size=batch_size,\n",
    "    class_mode=None,\n",
    "    shuffle=False)\n",
    "\n",
    "# Generation of the predictions for the input samples\n",
    "# from the validation data generator and return them as a numpy array that we can saved\n",
    "print('En cours de prédiction...')\n",
    "predictions_valid=network.predict(valid_generator)\n",
    "bottleneck_features_validation = np.array(predictions_valid)\n",
    "print('Prédictions réalisées')\n",
    "np.save(open('bottleneck_features_validation.npy', 'wb'),\n",
    "        bottleneck_features_validation)\n",
    "print('Et Sauvegardées')"
   ]
  },
  {
   "cell_type": "code",
   "execution_count": 68,
   "metadata": {},
   "outputs": [],
   "source": [
    "# Function that instanciates the convolutional part of the VGG16 pre-trained model on Imagenet and that runs it on our training and validation data\n",
    "\n",
    "def save_bottlebeck_features():\n",
    "    datagen = ImageDataGenerator(rescale=1. / 255)\n",
    "\n",
    "    # build and load the VGG16 network without the fully connected layers\n",
    "    network=VGG16(\n",
    "        include_top=False,\n",
    "        weights='imagenet')\n",
    "\n",
    "    # preparation of the training data\n",
    "    generator = datagen.flow_from_directory(\n",
    "        train_data_dir,\n",
    "        target_size=(img_width, img_height),\n",
    "        batch_size=batch_size,\n",
    "        class_mode=None,\n",
    "        shuffle=False)\n",
    "    \n",
    "    # Generation of the predictions for the input samples\n",
    "    # from the training data generator and return them as a numpy array that we can saved\n",
    "    print('En cours de prédiction...')\n",
    "    predictions = network.predict(generator)\n",
    "    print('Prédictions réalisées')\n",
    "    bottleneck_features_train = np.array(predictions)\n",
    "    np.save(open('bottleneck_features_train.npy', 'wb'),\n",
    "            bottleneck_features_train)\n",
    "    print('Et Sauvegardées')\n",
    "\n",
    "    # preparation of the validation data\n",
    "    valid_generator = datagen.flow_from_directory(\n",
    "        validation_data_dir,\n",
    "        target_size=(img_width, img_height),\n",
    "        batch_size=batch_size,\n",
    "        class_mode=None,\n",
    "        shuffle=False)\n",
    "    \n",
    "    # Generation of the predictions for the input samples\n",
    "    # from the validation data generator and return them as a numpy array that we can saved\n",
    "    print('En cours de prédiction...')\n",
    "    bottleneck_features_validation = np.array(network.predict(valid_generator))\n",
    "    print('Prédictions réalisées')\n",
    "    np.save(open('bottleneck_features_validation.npy', 'wb'),\n",
    "            bottleneck_features_validation)\n",
    "    print('Et Sauvegardées')\n",
    "    \n",
    "    "
   ]
  },
  {
   "cell_type": "code",
   "execution_count": 69,
   "metadata": {},
   "outputs": [
    {
     "name": "stdout",
     "output_type": "stream",
     "text": [
      "Found 2000 images belonging to 2 classes.\n",
      "En cours de prédiction...\n"
     ]
    },
    {
     "ename": "KeyboardInterrupt",
     "evalue": "",
     "output_type": "error",
     "traceback": [
      "\u001b[0;31m---------------------------------------------------------------------------\u001b[0m",
      "\u001b[0;31mKeyboardInterrupt\u001b[0m                         Traceback (most recent call last)",
      "\u001b[0;32m<ipython-input-69-13c836b7f710>\u001b[0m in \u001b[0;36m<module>\u001b[0;34m\u001b[0m\n\u001b[1;32m     21\u001b[0m     \u001b[0;31m# TO COMPLETE\u001b[0m\u001b[0;34m\u001b[0m\u001b[0;34m\u001b[0m\u001b[0;34m\u001b[0m\u001b[0m\n\u001b[1;32m     22\u001b[0m \u001b[0;34m\u001b[0m\u001b[0m\n\u001b[0;32m---> 23\u001b[0;31m \u001b[0msave_bottlebeck_features\u001b[0m\u001b[0;34m(\u001b[0m\u001b[0;34m)\u001b[0m\u001b[0;34m\u001b[0m\u001b[0;34m\u001b[0m\u001b[0m\n\u001b[0m\u001b[1;32m     24\u001b[0m \u001b[0mtrain_top_model\u001b[0m\u001b[0;34m(\u001b[0m\u001b[0;34m)\u001b[0m\u001b[0;34m\u001b[0m\u001b[0;34m\u001b[0m\u001b[0m\n",
      "\u001b[0;32m<ipython-input-68-2e903c6816a1>\u001b[0m in \u001b[0;36msave_bottlebeck_features\u001b[0;34m()\u001b[0m\n\u001b[1;32m     20\u001b[0m     \u001b[0;31m# from the training data generator and return them as a numpy array that we can saved\u001b[0m\u001b[0;34m\u001b[0m\u001b[0;34m\u001b[0m\u001b[0;34m\u001b[0m\u001b[0m\n\u001b[1;32m     21\u001b[0m     \u001b[0mprint\u001b[0m\u001b[0;34m(\u001b[0m\u001b[0;34m'En cours de prédiction...'\u001b[0m\u001b[0;34m)\u001b[0m\u001b[0;34m\u001b[0m\u001b[0;34m\u001b[0m\u001b[0m\n\u001b[0;32m---> 22\u001b[0;31m     \u001b[0mpredictions\u001b[0m \u001b[0;34m=\u001b[0m \u001b[0mnetwork\u001b[0m\u001b[0;34m.\u001b[0m\u001b[0mpredict\u001b[0m\u001b[0;34m(\u001b[0m\u001b[0mgenerator\u001b[0m\u001b[0;34m)\u001b[0m\u001b[0;34m\u001b[0m\u001b[0;34m\u001b[0m\u001b[0m\n\u001b[0m\u001b[1;32m     23\u001b[0m     \u001b[0mprint\u001b[0m\u001b[0;34m(\u001b[0m\u001b[0;34m'Prédictions réalisées'\u001b[0m\u001b[0;34m)\u001b[0m\u001b[0;34m\u001b[0m\u001b[0;34m\u001b[0m\u001b[0m\n\u001b[1;32m     24\u001b[0m     \u001b[0mbottleneck_features_train\u001b[0m \u001b[0;34m=\u001b[0m \u001b[0mnp\u001b[0m\u001b[0;34m.\u001b[0m\u001b[0marray\u001b[0m\u001b[0;34m(\u001b[0m\u001b[0mpredictions\u001b[0m\u001b[0;34m)\u001b[0m\u001b[0;34m\u001b[0m\u001b[0;34m\u001b[0m\u001b[0m\n",
      "\u001b[0;32m~/opt/anaconda3/lib/python3.8/site-packages/keras/engine/training.py\u001b[0m in \u001b[0;36mpredict\u001b[0;34m(self, x, batch_size, verbose, steps, callbacks, max_queue_size, workers, use_multiprocessing)\u001b[0m\n\u001b[1;32m   1749\u001b[0m           \u001b[0;32mfor\u001b[0m \u001b[0mstep\u001b[0m \u001b[0;32min\u001b[0m \u001b[0mdata_handler\u001b[0m\u001b[0;34m.\u001b[0m\u001b[0msteps\u001b[0m\u001b[0;34m(\u001b[0m\u001b[0;34m)\u001b[0m\u001b[0;34m:\u001b[0m\u001b[0;34m\u001b[0m\u001b[0;34m\u001b[0m\u001b[0m\n\u001b[1;32m   1750\u001b[0m             \u001b[0mcallbacks\u001b[0m\u001b[0;34m.\u001b[0m\u001b[0mon_predict_batch_begin\u001b[0m\u001b[0;34m(\u001b[0m\u001b[0mstep\u001b[0m\u001b[0;34m)\u001b[0m\u001b[0;34m\u001b[0m\u001b[0;34m\u001b[0m\u001b[0m\n\u001b[0;32m-> 1751\u001b[0;31m             \u001b[0mtmp_batch_outputs\u001b[0m \u001b[0;34m=\u001b[0m \u001b[0mself\u001b[0m\u001b[0;34m.\u001b[0m\u001b[0mpredict_function\u001b[0m\u001b[0;34m(\u001b[0m\u001b[0miterator\u001b[0m\u001b[0;34m)\u001b[0m\u001b[0;34m\u001b[0m\u001b[0;34m\u001b[0m\u001b[0m\n\u001b[0m\u001b[1;32m   1752\u001b[0m             \u001b[0;32mif\u001b[0m \u001b[0mdata_handler\u001b[0m\u001b[0;34m.\u001b[0m\u001b[0mshould_sync\u001b[0m\u001b[0;34m:\u001b[0m\u001b[0;34m\u001b[0m\u001b[0;34m\u001b[0m\u001b[0m\n\u001b[1;32m   1753\u001b[0m               \u001b[0mcontext\u001b[0m\u001b[0;34m.\u001b[0m\u001b[0masync_wait\u001b[0m\u001b[0;34m(\u001b[0m\u001b[0;34m)\u001b[0m\u001b[0;34m\u001b[0m\u001b[0;34m\u001b[0m\u001b[0m\n",
      "\u001b[0;32m~/opt/anaconda3/lib/python3.8/site-packages/tensorflow/python/eager/def_function.py\u001b[0m in \u001b[0;36m__call__\u001b[0;34m(self, *args, **kwds)\u001b[0m\n\u001b[1;32m    883\u001b[0m \u001b[0;34m\u001b[0m\u001b[0m\n\u001b[1;32m    884\u001b[0m       \u001b[0;32mwith\u001b[0m \u001b[0mOptionalXlaContext\u001b[0m\u001b[0;34m(\u001b[0m\u001b[0mself\u001b[0m\u001b[0;34m.\u001b[0m\u001b[0m_jit_compile\u001b[0m\u001b[0;34m)\u001b[0m\u001b[0;34m:\u001b[0m\u001b[0;34m\u001b[0m\u001b[0;34m\u001b[0m\u001b[0m\n\u001b[0;32m--> 885\u001b[0;31m         \u001b[0mresult\u001b[0m \u001b[0;34m=\u001b[0m \u001b[0mself\u001b[0m\u001b[0;34m.\u001b[0m\u001b[0m_call\u001b[0m\u001b[0;34m(\u001b[0m\u001b[0;34m*\u001b[0m\u001b[0margs\u001b[0m\u001b[0;34m,\u001b[0m \u001b[0;34m**\u001b[0m\u001b[0mkwds\u001b[0m\u001b[0;34m)\u001b[0m\u001b[0;34m\u001b[0m\u001b[0;34m\u001b[0m\u001b[0m\n\u001b[0m\u001b[1;32m    886\u001b[0m \u001b[0;34m\u001b[0m\u001b[0m\n\u001b[1;32m    887\u001b[0m       \u001b[0mnew_tracing_count\u001b[0m \u001b[0;34m=\u001b[0m \u001b[0mself\u001b[0m\u001b[0;34m.\u001b[0m\u001b[0mexperimental_get_tracing_count\u001b[0m\u001b[0;34m(\u001b[0m\u001b[0;34m)\u001b[0m\u001b[0;34m\u001b[0m\u001b[0;34m\u001b[0m\u001b[0m\n",
      "\u001b[0;32m~/opt/anaconda3/lib/python3.8/site-packages/tensorflow/python/eager/def_function.py\u001b[0m in \u001b[0;36m_call\u001b[0;34m(self, *args, **kwds)\u001b[0m\n\u001b[1;32m    922\u001b[0m       \u001b[0;31m# In this case we have not created variables on the first call. So we can\u001b[0m\u001b[0;34m\u001b[0m\u001b[0;34m\u001b[0m\u001b[0;34m\u001b[0m\u001b[0m\n\u001b[1;32m    923\u001b[0m       \u001b[0;31m# run the first trace but we should fail if variables are created.\u001b[0m\u001b[0;34m\u001b[0m\u001b[0;34m\u001b[0m\u001b[0;34m\u001b[0m\u001b[0m\n\u001b[0;32m--> 924\u001b[0;31m       \u001b[0mresults\u001b[0m \u001b[0;34m=\u001b[0m \u001b[0mself\u001b[0m\u001b[0;34m.\u001b[0m\u001b[0m_stateful_fn\u001b[0m\u001b[0;34m(\u001b[0m\u001b[0;34m*\u001b[0m\u001b[0margs\u001b[0m\u001b[0;34m,\u001b[0m \u001b[0;34m**\u001b[0m\u001b[0mkwds\u001b[0m\u001b[0;34m)\u001b[0m\u001b[0;34m\u001b[0m\u001b[0;34m\u001b[0m\u001b[0m\n\u001b[0m\u001b[1;32m    925\u001b[0m       \u001b[0;32mif\u001b[0m \u001b[0mself\u001b[0m\u001b[0;34m.\u001b[0m\u001b[0m_created_variables\u001b[0m \u001b[0;32mand\u001b[0m \u001b[0;32mnot\u001b[0m \u001b[0mALLOW_DYNAMIC_VARIABLE_CREATION\u001b[0m\u001b[0;34m:\u001b[0m\u001b[0;34m\u001b[0m\u001b[0;34m\u001b[0m\u001b[0m\n\u001b[1;32m    926\u001b[0m         raise ValueError(\"Creating variables on a non-first call to a function\"\n",
      "\u001b[0;32m~/opt/anaconda3/lib/python3.8/site-packages/tensorflow/python/eager/function.py\u001b[0m in \u001b[0;36m__call__\u001b[0;34m(self, *args, **kwargs)\u001b[0m\n\u001b[1;32m   3037\u001b[0m       (graph_function,\n\u001b[1;32m   3038\u001b[0m        filtered_flat_args) = self._maybe_define_function(args, kwargs)\n\u001b[0;32m-> 3039\u001b[0;31m     return graph_function._call_flat(\n\u001b[0m\u001b[1;32m   3040\u001b[0m         filtered_flat_args, captured_inputs=graph_function.captured_inputs)  # pylint: disable=protected-access\n\u001b[1;32m   3041\u001b[0m \u001b[0;34m\u001b[0m\u001b[0m\n",
      "\u001b[0;32m~/opt/anaconda3/lib/python3.8/site-packages/tensorflow/python/eager/function.py\u001b[0m in \u001b[0;36m_call_flat\u001b[0;34m(self, args, captured_inputs, cancellation_manager)\u001b[0m\n\u001b[1;32m   1961\u001b[0m         and executing_eagerly):\n\u001b[1;32m   1962\u001b[0m       \u001b[0;31m# No tape is watching; skip to running the function.\u001b[0m\u001b[0;34m\u001b[0m\u001b[0;34m\u001b[0m\u001b[0;34m\u001b[0m\u001b[0m\n\u001b[0;32m-> 1963\u001b[0;31m       return self._build_call_outputs(self._inference_function.call(\n\u001b[0m\u001b[1;32m   1964\u001b[0m           ctx, args, cancellation_manager=cancellation_manager))\n\u001b[1;32m   1965\u001b[0m     forward_backward = self._select_forward_and_backward_functions(\n",
      "\u001b[0;32m~/opt/anaconda3/lib/python3.8/site-packages/tensorflow/python/eager/function.py\u001b[0m in \u001b[0;36mcall\u001b[0;34m(self, ctx, args, cancellation_manager)\u001b[0m\n\u001b[1;32m    589\u001b[0m       \u001b[0;32mwith\u001b[0m \u001b[0m_InterpolateFunctionError\u001b[0m\u001b[0;34m(\u001b[0m\u001b[0mself\u001b[0m\u001b[0;34m)\u001b[0m\u001b[0;34m:\u001b[0m\u001b[0;34m\u001b[0m\u001b[0;34m\u001b[0m\u001b[0m\n\u001b[1;32m    590\u001b[0m         \u001b[0;32mif\u001b[0m \u001b[0mcancellation_manager\u001b[0m \u001b[0;32mis\u001b[0m \u001b[0;32mNone\u001b[0m\u001b[0;34m:\u001b[0m\u001b[0;34m\u001b[0m\u001b[0;34m\u001b[0m\u001b[0m\n\u001b[0;32m--> 591\u001b[0;31m           outputs = execute.execute(\n\u001b[0m\u001b[1;32m    592\u001b[0m               \u001b[0mstr\u001b[0m\u001b[0;34m(\u001b[0m\u001b[0mself\u001b[0m\u001b[0;34m.\u001b[0m\u001b[0msignature\u001b[0m\u001b[0;34m.\u001b[0m\u001b[0mname\u001b[0m\u001b[0;34m)\u001b[0m\u001b[0;34m,\u001b[0m\u001b[0;34m\u001b[0m\u001b[0;34m\u001b[0m\u001b[0m\n\u001b[1;32m    593\u001b[0m               \u001b[0mnum_outputs\u001b[0m\u001b[0;34m=\u001b[0m\u001b[0mself\u001b[0m\u001b[0;34m.\u001b[0m\u001b[0m_num_outputs\u001b[0m\u001b[0;34m,\u001b[0m\u001b[0;34m\u001b[0m\u001b[0;34m\u001b[0m\u001b[0m\n",
      "\u001b[0;32m~/opt/anaconda3/lib/python3.8/site-packages/tensorflow/python/eager/execute.py\u001b[0m in \u001b[0;36mquick_execute\u001b[0;34m(op_name, num_outputs, inputs, attrs, ctx, name)\u001b[0m\n\u001b[1;32m     57\u001b[0m   \u001b[0;32mtry\u001b[0m\u001b[0;34m:\u001b[0m\u001b[0;34m\u001b[0m\u001b[0;34m\u001b[0m\u001b[0m\n\u001b[1;32m     58\u001b[0m     \u001b[0mctx\u001b[0m\u001b[0;34m.\u001b[0m\u001b[0mensure_initialized\u001b[0m\u001b[0;34m(\u001b[0m\u001b[0;34m)\u001b[0m\u001b[0;34m\u001b[0m\u001b[0;34m\u001b[0m\u001b[0m\n\u001b[0;32m---> 59\u001b[0;31m     tensors = pywrap_tfe.TFE_Py_Execute(ctx._handle, device_name, op_name,\n\u001b[0m\u001b[1;32m     60\u001b[0m                                         inputs, attrs, num_outputs)\n\u001b[1;32m     61\u001b[0m   \u001b[0;32mexcept\u001b[0m \u001b[0mcore\u001b[0m\u001b[0;34m.\u001b[0m\u001b[0m_NotOkStatusException\u001b[0m \u001b[0;32mas\u001b[0m \u001b[0me\u001b[0m\u001b[0;34m:\u001b[0m\u001b[0;34m\u001b[0m\u001b[0;34m\u001b[0m\u001b[0m\n",
      "\u001b[0;31mKeyboardInterrupt\u001b[0m: "
     ]
    }
   ],
   "source": [
    "# Function that trains a small fully-connected model on top of the stored previous features\n",
    "\n",
    "def train_top_model():\n",
    "    train_data = np.load(open('bottleneck_features_train.npy','rb'))\n",
    "    train_labels = np.array(\n",
    "        [0] * (nb_train_samples // 2) + [1] * (nb_train_samples // 2))\n",
    "\n",
    "    validation_data = np.load(open('bottleneck_features_validation.npy','rb'))\n",
    "    validation_labels = np.array(\n",
    "        [0] * (nb_validation_samples // 2) + [1] * (nb_validation_samples // 2))\n",
    "\n",
    "    # Building of the small fully-connected model\n",
    "    model=Sequential()\n",
    "    model.add(Flatten())\n",
    "    model.add(Dense(32))\n",
    "    model.add(Dense(64))\n",
    "    model.add(Dense(2))\n",
    "    \n",
    "    \n",
    "    # Configuration of the learning process\n",
    "    model.compile(optimizer='rmsprop',\n",
    "                  loss='binary_crossentropy', metrics=['accuracy'])\n",
    "\n",
    "    # Training of the model\n",
    "    model.fit(x=train_data, y=train_labels, batch_size=batch_size, validation_data=validation_data)\n",
    "    \n",
    "save_bottlebeck_features()\n",
    "train_top_model()"
   ]
  },
  {
   "cell_type": "markdown",
   "metadata": {},
   "source": [
    "#### Carefully have a look on the results and on the diffferent metrics and their obtained values. What is your interpretation of the results ?\n",
    "Try to apply this model of some unknown images, even images without dogs ar cats."
   ]
  },
  {
   "cell_type": "markdown",
   "metadata": {},
   "source": [
    "## Fine-tuning the top layers of a a pre-trained network\n",
    "\n",
    "We will now try to \"fine-tune\" the last convolutional block of the VGG16 model. It consist in starting from a trained network (the VGG16 network), then re-training it on a new dataset using very small weight updates. In our case, this can be done in 3 steps:\n",
    "+ Instantiate the convolutional base of VGG16 and load its weights.\n",
    "+ Add our previously defined fully-connected model on top, and load its weights.\n",
    "+ Freeze the layers of the VGG16 model up to the last convolutional block\n"
   ]
  },
  {
   "cell_type": "code",
   "execution_count": 84,
   "metadata": {},
   "outputs": [
    {
     "name": "stdout",
     "output_type": "stream",
     "text": [
      "Model loaded.\n"
     ]
    }
   ],
   "source": [
    "from keras import applications\n",
    "from keras.backend import set_image_data_format\n",
    "from keras.preprocessing.image import ImageDataGenerator\n",
    "from keras import optimizers\n",
    "from keras.models import Sequential\n",
    "from keras.layers import Dropout, Flatten, Dense\n",
    "import keras\n",
    "\n",
    "\n",
    "# path to the model weights files.\n",
    "weights_path = '../keras/examples/vgg16_weights.h5'\n",
    "top_model_weights_path = 'bottleneck_fc_model.h5'\n",
    "# dimensions of our images.\n",
    "img_width, img_height = 150, 150\n",
    "set_image_data_format('channels_last')\n",
    "\n",
    "train_data_dir = 'data/DogCatChallenge/sampleDeep/train'\n",
    "validation_data_dir = 'data/DogCatChallenge/sampleDeep/valid'\n",
    "nb_train_samples = 2000\n",
    "nb_validation_samples = 800\n",
    "epochs = 50\n",
    "batch_size = 16\n",
    "\n",
    "# creation of the base VGG pre-trained model\n",
    "model = VGG16(weights='imagenet', include_top=False, input_shape=(150,150,3))\n",
    "print('Model loaded.')"
   ]
  },
  {
   "cell_type": "code",
   "execution_count": null,
   "metadata": {},
   "outputs": [],
   "source": []
  },
  {
   "cell_type": "code",
   "execution_count": null,
   "metadata": {},
   "outputs": [],
   "source": [
    "# build a classifier model to put on top of the convolutional model\n",
    "top_model = Sequential()\n",
    "# TO COMPLETE\n",
    "\n",
    "# note that it is necessary to start with a fully-trained\n",
    "# classifier, including the top classifier,\n",
    "# in order to successfully do fine-tuning\n",
    "top_model.load_weights(top_model_weights_path)\n",
    "\n",
    "\n",
    "# creation of a real model from vgg\n",
    "new_model = Sequential()\n",
    "for l in model.layers:\n",
    "    new_model.add(l)\n",
    "\n",
    "\n",
    "# concatenation of the base model with the top model\n",
    "# TO COMPLETE\n",
    "\n",
    "\n",
    "# set the first 25 layers (up to the last conv block)\n",
    "# to non-trainable (weights will not be updated)\n",
    "\n",
    "# TO COMPLETE\n",
    "\n",
    "# compile the model with a SGD/momentum optimizer\n",
    "# and a very slow learning rate.\n",
    "new_model.compile(loss='binary_crossentropy',\n",
    "              optimizer=optimizers.SGD(lr=1e-4, momentum=0.9),\n",
    "              metrics=['accuracy'])\n",
    "\n",
    "# prepare data augmentation configuration\n",
    "train_datagen = ImageDataGenerator(\n",
    "    rescale=1. / 255,\n",
    "    shear_range=0.2,\n",
    "    zoom_range=0.2,\n",
    "    horizontal_flip=True)\n",
    "\n",
    "test_datagen = ImageDataGenerator(rescale=1. / 255)\n",
    "\n",
    "train_generator = train_datagen.flow_from_directory(\n",
    "    train_data_dir,\n",
    "    target_size=(img_height, img_width),\n",
    "    batch_size=batch_size,\n",
    "    class_mode='binary')\n",
    "\n",
    "validation_generator = test_datagen.flow_from_directory(\n",
    "    validation_data_dir,\n",
    "    target_size=(img_height, img_width),\n",
    "    batch_size=batch_size,\n",
    "    class_mode='binary')\n",
    "\n",
    "# fine-tune the model\n",
    "\n",
    "# TO COMPLETE"
   ]
  },
  {
   "cell_type": "markdown",
   "metadata": {},
   "source": [
    "#### Carefully have a look on the results and on the diffferent metrics and their obtained values. What is your interpretation of the results ?\n",
    "Try to apply this model of some unknown images, even images without dogs ar cats."
   ]
  },
  {
   "cell_type": "markdown",
   "metadata": {},
   "source": [
    "#### Summary of Part 3\n",
    "\n",
    "    \n",
    "+ <span style=\"background-color:lightgreen\">Introduction to representation learning </span>.\n",
    "+ <span style=\"background-color:lightgreen\"> Introduction to deep learning and CNN.</span> \n",
    "+ <span style=\"background-color:lightgreen\"> Practice on Keras </span>\n",
    "+ <span style=\"background-color:lightgreen\"> Introduction to transfer learning and fine tuning </span>"
   ]
  },
  {
   "cell_type": "markdown",
   "metadata": {},
   "source": [
    "<span style=\"background-color:lightblue\"> You have finished the part 2 ! Complete the dashboard on the global MsTeams team.</span>"
   ]
  },
  {
   "cell_type": "markdown",
   "metadata": {},
   "source": [
    "## Opening the black box [Optional]\n",
    "\n",
    "Deep neural network models are often considered as  black-boxes and their performances come at the price of loss of interpretability. Indeed, they fail to provide explanations on their predictions. In high-risk domains, e.g., health care, or in a context of production, it is crucial to build trust in a model and being able to understand its behavior. This sub-fied of artificial intelligence is known as XAI (eXplainable Artificial Intelligence) (see for instance this [tutorial](https://sites.google.com/view/www20-explainable-ai-tutorial) or the DARPA initiative [here](https://www.darpa.mil/attachments/XAIProgramUpdate.pdf)).\n",
    "\n",
    "In particular different approaches are now well established as tools to explain a model or a model decision. You can test them on your different classification models.\n",
    "\n"
   ]
  },
  {
   "cell_type": "markdown",
   "metadata": {},
   "source": [
    "#### Activation Maximization\n",
    "\n",
    "See this [tutorial](https://www.machinecurve.com/index.php/2019/11/18/visualizing-keras-model-inputs-with-activation-maximization/) to test it on your models.\n"
   ]
  },
  {
   "cell_type": "code",
   "execution_count": 13,
   "metadata": {},
   "outputs": [
    {
     "name": "stdout",
     "output_type": "stream",
     "text": [
      "Collecting tf-keras-vis\n",
      "  Downloading tf_keras_vis-0.8.0-py3-none-any.whl (53 kB)\n",
      "\u001b[K     |████████████████████████████████| 53 kB 1.7 MB/s eta 0:00:011\n",
      "\u001b[?25hCollecting deprecated\n",
      "  Downloading Deprecated-1.2.12-py2.py3-none-any.whl (9.5 kB)\n",
      "Requirement already satisfied: pillow in /Users/cha/opt/anaconda3/lib/python3.8/site-packages (from tf-keras-vis) (8.0.1)\n",
      "Requirement already satisfied: packaging in /Users/cha/opt/anaconda3/lib/python3.8/site-packages (from tf-keras-vis) (20.4)\n",
      "Requirement already satisfied: scipy in /Users/cha/opt/anaconda3/lib/python3.8/site-packages (from tf-keras-vis) (1.7.1)\n",
      "Requirement already satisfied: imageio in /Users/cha/opt/anaconda3/lib/python3.8/site-packages (from tf-keras-vis) (2.9.0)\n",
      "Requirement already satisfied: wrapt<2,>=1.10 in /Users/cha/opt/anaconda3/lib/python3.8/site-packages (from deprecated->tf-keras-vis) (1.12.1)\n",
      "Requirement already satisfied: pyparsing>=2.0.2 in /Users/cha/opt/anaconda3/lib/python3.8/site-packages (from packaging->tf-keras-vis) (2.4.7)\n",
      "Requirement already satisfied: six in /Users/cha/opt/anaconda3/lib/python3.8/site-packages (from packaging->tf-keras-vis) (1.15.0)\n",
      "Requirement already satisfied: numpy<1.23.0,>=1.16.5 in /Users/cha/opt/anaconda3/lib/python3.8/site-packages (from scipy->tf-keras-vis) (1.19.2)\n",
      "Installing collected packages: deprecated, tf-keras-vis\n",
      "Successfully installed deprecated-1.2.12 tf-keras-vis-0.8.0\n",
      "Note: you may need to restart the kernel to use updated packages.\n"
     ]
    }
   ],
   "source": [
    "pip install tf-keras-vis"
   ]
  },
  {
   "cell_type": "code",
   "execution_count": 21,
   "metadata": {},
   "outputs": [],
   "source": [
    "# =============================================\n",
    "# Activation Maximization code\n",
    "# =============================================\n",
    "from tf_keras_vis.activation_maximization import ActivationMaximization\n",
    "from keras.activations import linear\n",
    "from tensorflow.random import uniform\n",
    "\n",
    "import matplotlib.pyplot as plt\n",
    "\n",
    "def loss(output):\n",
    "  return (output[0, 0], output[1, 1], output[2, 2], output[3, 3], output[4, 4], output[5, 5], output[6, 6], output[7, 7], output[8, 8], output[9, 9])\n",
    "\n",
    "def model_modifier(m):\n",
    "    m.layers[-1].activation = linear"
   ]
  },
  {
   "cell_type": "code",
   "execution_count": 25,
   "metadata": {},
   "outputs": [
    {
     "ename": "InvalidArgumentError",
     "evalue": "slice index 1 of dimension 1 out of bounds. [Op:StridedSlice] name: strided_slice/",
     "output_type": "error",
     "traceback": [
      "\u001b[0;31m---------------------------------------------------------------------------\u001b[0m",
      "\u001b[0;31mInvalidArgumentError\u001b[0m                      Traceback (most recent call last)",
      "\u001b[0;32m<ipython-input-25-a3116d0359d3>\u001b[0m in \u001b[0;36m<module>\u001b[0;34m\u001b[0m\n\u001b[1;32m      6\u001b[0m \u001b[0;34m\u001b[0m\u001b[0m\n\u001b[1;32m      7\u001b[0m \u001b[0;31m# Generate activations and convert into images\u001b[0m\u001b[0;34m\u001b[0m\u001b[0;34m\u001b[0m\u001b[0;34m\u001b[0m\u001b[0m\n\u001b[0;32m----> 8\u001b[0;31m \u001b[0mactivations\u001b[0m \u001b[0;34m=\u001b[0m \u001b[0mvisualize_activation\u001b[0m\u001b[0;34m(\u001b[0m\u001b[0mloss\u001b[0m\u001b[0;34m,\u001b[0m \u001b[0mseed_input\u001b[0m\u001b[0;34m=\u001b[0m\u001b[0mseed_input\u001b[0m\u001b[0;34m,\u001b[0m \u001b[0msteps\u001b[0m\u001b[0;34m=\u001b[0m\u001b[0;36m512\u001b[0m\u001b[0;34m)\u001b[0m\u001b[0;34m\u001b[0m\u001b[0;34m\u001b[0m\u001b[0m\n\u001b[0m\u001b[1;32m      9\u001b[0m \u001b[0mprint\u001b[0m\u001b[0;34m(\u001b[0m\u001b[0mactivations\u001b[0m\u001b[0;34m[\u001b[0m\u001b[0;36m0\u001b[0m\u001b[0;34m]\u001b[0m\u001b[0;34m)\u001b[0m\u001b[0;34m\u001b[0m\u001b[0;34m\u001b[0m\u001b[0m\n\u001b[1;32m     10\u001b[0m \u001b[0mimages\u001b[0m \u001b[0;34m=\u001b[0m \u001b[0;34m[\u001b[0m\u001b[0mactivation\u001b[0m\u001b[0;34m.\u001b[0m\u001b[0mastype\u001b[0m\u001b[0;34m(\u001b[0m\u001b[0mnp\u001b[0m\u001b[0;34m.\u001b[0m\u001b[0mfloat32\u001b[0m\u001b[0;34m)\u001b[0m \u001b[0;32mfor\u001b[0m \u001b[0mactivation\u001b[0m \u001b[0;32min\u001b[0m \u001b[0mactivations\u001b[0m\u001b[0;34m]\u001b[0m\u001b[0;34m\u001b[0m\u001b[0;34m\u001b[0m\u001b[0m\n",
      "\u001b[0;32m~/opt/anaconda3/lib/python3.8/site-packages/tf_keras_vis/activation_maximization/__init__.py\u001b[0m in \u001b[0;36m__call__\u001b[0;34m(self, score, seed_input, input_range, input_modifiers, regularizers, steps, optimizer, gradient_modifier, callbacks, training, unconnected_gradients, activation_modifiers, _compatible_mode)\u001b[0m\n\u001b[1;32m    226\u001b[0m                     \u001b[0moutputs\u001b[0m \u001b[0;34m=\u001b[0m \u001b[0mself\u001b[0m\u001b[0;34m.\u001b[0m\u001b[0mmodel\u001b[0m\u001b[0;34m(\u001b[0m\u001b[0minput_values\u001b[0m\u001b[0;34m,\u001b[0m \u001b[0mtraining\u001b[0m\u001b[0;34m=\u001b[0m\u001b[0mtraining\u001b[0m\u001b[0;34m)\u001b[0m\u001b[0;34m\u001b[0m\u001b[0;34m\u001b[0m\u001b[0m\n\u001b[1;32m    227\u001b[0m                     \u001b[0moutputs\u001b[0m \u001b[0;34m=\u001b[0m \u001b[0mlistify\u001b[0m\u001b[0;34m(\u001b[0m\u001b[0moutputs\u001b[0m\u001b[0;34m)\u001b[0m\u001b[0;34m\u001b[0m\u001b[0;34m\u001b[0m\u001b[0m\n\u001b[0;32m--> 228\u001b[0;31m                     \u001b[0mscore_values\u001b[0m \u001b[0;34m=\u001b[0m \u001b[0mself\u001b[0m\u001b[0;34m.\u001b[0m\u001b[0m_calculate_scores\u001b[0m\u001b[0;34m(\u001b[0m\u001b[0moutputs\u001b[0m\u001b[0;34m,\u001b[0m \u001b[0mscores\u001b[0m\u001b[0;34m)\u001b[0m\u001b[0;34m\u001b[0m\u001b[0;34m\u001b[0m\u001b[0m\n\u001b[0m\u001b[1;32m    229\u001b[0m                     \u001b[0;31m# Calculate regularization\u001b[0m\u001b[0;34m\u001b[0m\u001b[0;34m\u001b[0m\u001b[0;34m\u001b[0m\u001b[0m\n\u001b[1;32m    230\u001b[0m                     \u001b[0mregularization_values\u001b[0m\u001b[0;34m,\u001b[0m \u001b[0mregularized_score_values\u001b[0m \u001b[0;34m=\u001b[0m\u001b[0;31m \u001b[0m\u001b[0;31m\\\u001b[0m\u001b[0;34m\u001b[0m\u001b[0;34m\u001b[0m\u001b[0m\n",
      "\u001b[0;32m~/opt/anaconda3/lib/python3.8/site-packages/tf_keras_vis/__init__.py\u001b[0m in \u001b[0;36m_calculate_scores\u001b[0;34m(self, outputs, score_functions)\u001b[0m\n\u001b[1;32m     86\u001b[0m         \u001b[0mscore_values\u001b[0m \u001b[0;34m=\u001b[0m \u001b[0;34m(\u001b[0m\u001b[0mfunc\u001b[0m\u001b[0;34m(\u001b[0m\u001b[0moutput\u001b[0m\u001b[0;34m)\u001b[0m \u001b[0;32mfor\u001b[0m \u001b[0moutput\u001b[0m\u001b[0;34m,\u001b[0m \u001b[0mfunc\u001b[0m \u001b[0;32min\u001b[0m \u001b[0mzip\u001b[0m\u001b[0;34m(\u001b[0m\u001b[0moutputs\u001b[0m\u001b[0;34m,\u001b[0m \u001b[0mscore_functions\u001b[0m\u001b[0;34m)\u001b[0m\u001b[0;34m)\u001b[0m\u001b[0;34m\u001b[0m\u001b[0;34m\u001b[0m\u001b[0m\n\u001b[1;32m     87\u001b[0m         \u001b[0mscore_values\u001b[0m \u001b[0;34m=\u001b[0m \u001b[0;34m(\u001b[0m\u001b[0mself\u001b[0m\u001b[0;34m.\u001b[0m\u001b[0m_mean_score_value\u001b[0m\u001b[0;34m(\u001b[0m\u001b[0mscore\u001b[0m\u001b[0;34m)\u001b[0m \u001b[0;32mfor\u001b[0m \u001b[0mscore\u001b[0m \u001b[0;32min\u001b[0m \u001b[0mscore_values\u001b[0m\u001b[0;34m)\u001b[0m\u001b[0;34m\u001b[0m\u001b[0;34m\u001b[0m\u001b[0m\n\u001b[0;32m---> 88\u001b[0;31m         \u001b[0mscore_values\u001b[0m \u001b[0;34m=\u001b[0m \u001b[0mlist\u001b[0m\u001b[0;34m(\u001b[0m\u001b[0mscore_values\u001b[0m\u001b[0;34m)\u001b[0m\u001b[0;34m\u001b[0m\u001b[0;34m\u001b[0m\u001b[0m\n\u001b[0m\u001b[1;32m     89\u001b[0m         \u001b[0;32mreturn\u001b[0m \u001b[0mscore_values\u001b[0m\u001b[0;34m\u001b[0m\u001b[0;34m\u001b[0m\u001b[0m\n\u001b[1;32m     90\u001b[0m \u001b[0;34m\u001b[0m\u001b[0m\n",
      "\u001b[0;32m~/opt/anaconda3/lib/python3.8/site-packages/tf_keras_vis/__init__.py\u001b[0m in \u001b[0;36m<genexpr>\u001b[0;34m(.0)\u001b[0m\n\u001b[1;32m     85\u001b[0m     \u001b[0;32mdef\u001b[0m \u001b[0m_calculate_scores\u001b[0m\u001b[0;34m(\u001b[0m\u001b[0mself\u001b[0m\u001b[0;34m,\u001b[0m \u001b[0moutputs\u001b[0m\u001b[0;34m,\u001b[0m \u001b[0mscore_functions\u001b[0m\u001b[0;34m)\u001b[0m\u001b[0;34m:\u001b[0m\u001b[0;34m\u001b[0m\u001b[0;34m\u001b[0m\u001b[0m\n\u001b[1;32m     86\u001b[0m         \u001b[0mscore_values\u001b[0m \u001b[0;34m=\u001b[0m \u001b[0;34m(\u001b[0m\u001b[0mfunc\u001b[0m\u001b[0;34m(\u001b[0m\u001b[0moutput\u001b[0m\u001b[0;34m)\u001b[0m \u001b[0;32mfor\u001b[0m \u001b[0moutput\u001b[0m\u001b[0;34m,\u001b[0m \u001b[0mfunc\u001b[0m \u001b[0;32min\u001b[0m \u001b[0mzip\u001b[0m\u001b[0;34m(\u001b[0m\u001b[0moutputs\u001b[0m\u001b[0;34m,\u001b[0m \u001b[0mscore_functions\u001b[0m\u001b[0;34m)\u001b[0m\u001b[0;34m)\u001b[0m\u001b[0;34m\u001b[0m\u001b[0;34m\u001b[0m\u001b[0m\n\u001b[0;32m---> 87\u001b[0;31m         \u001b[0mscore_values\u001b[0m \u001b[0;34m=\u001b[0m \u001b[0;34m(\u001b[0m\u001b[0mself\u001b[0m\u001b[0;34m.\u001b[0m\u001b[0m_mean_score_value\u001b[0m\u001b[0;34m(\u001b[0m\u001b[0mscore\u001b[0m\u001b[0;34m)\u001b[0m \u001b[0;32mfor\u001b[0m \u001b[0mscore\u001b[0m \u001b[0;32min\u001b[0m \u001b[0mscore_values\u001b[0m\u001b[0;34m)\u001b[0m\u001b[0;34m\u001b[0m\u001b[0;34m\u001b[0m\u001b[0m\n\u001b[0m\u001b[1;32m     88\u001b[0m         \u001b[0mscore_values\u001b[0m \u001b[0;34m=\u001b[0m \u001b[0mlist\u001b[0m\u001b[0;34m(\u001b[0m\u001b[0mscore_values\u001b[0m\u001b[0;34m)\u001b[0m\u001b[0;34m\u001b[0m\u001b[0;34m\u001b[0m\u001b[0m\n\u001b[1;32m     89\u001b[0m         \u001b[0;32mreturn\u001b[0m \u001b[0mscore_values\u001b[0m\u001b[0;34m\u001b[0m\u001b[0;34m\u001b[0m\u001b[0m\n",
      "\u001b[0;32m~/opt/anaconda3/lib/python3.8/site-packages/tf_keras_vis/__init__.py\u001b[0m in \u001b[0;36m<genexpr>\u001b[0;34m(.0)\u001b[0m\n\u001b[1;32m     84\u001b[0m \u001b[0;34m\u001b[0m\u001b[0m\n\u001b[1;32m     85\u001b[0m     \u001b[0;32mdef\u001b[0m \u001b[0m_calculate_scores\u001b[0m\u001b[0;34m(\u001b[0m\u001b[0mself\u001b[0m\u001b[0;34m,\u001b[0m \u001b[0moutputs\u001b[0m\u001b[0;34m,\u001b[0m \u001b[0mscore_functions\u001b[0m\u001b[0;34m)\u001b[0m\u001b[0;34m:\u001b[0m\u001b[0;34m\u001b[0m\u001b[0;34m\u001b[0m\u001b[0m\n\u001b[0;32m---> 86\u001b[0;31m         \u001b[0mscore_values\u001b[0m \u001b[0;34m=\u001b[0m \u001b[0;34m(\u001b[0m\u001b[0mfunc\u001b[0m\u001b[0;34m(\u001b[0m\u001b[0moutput\u001b[0m\u001b[0;34m)\u001b[0m \u001b[0;32mfor\u001b[0m \u001b[0moutput\u001b[0m\u001b[0;34m,\u001b[0m \u001b[0mfunc\u001b[0m \u001b[0;32min\u001b[0m \u001b[0mzip\u001b[0m\u001b[0;34m(\u001b[0m\u001b[0moutputs\u001b[0m\u001b[0;34m,\u001b[0m \u001b[0mscore_functions\u001b[0m\u001b[0;34m)\u001b[0m\u001b[0;34m)\u001b[0m\u001b[0;34m\u001b[0m\u001b[0;34m\u001b[0m\u001b[0m\n\u001b[0m\u001b[1;32m     87\u001b[0m         \u001b[0mscore_values\u001b[0m \u001b[0;34m=\u001b[0m \u001b[0;34m(\u001b[0m\u001b[0mself\u001b[0m\u001b[0;34m.\u001b[0m\u001b[0m_mean_score_value\u001b[0m\u001b[0;34m(\u001b[0m\u001b[0mscore\u001b[0m\u001b[0;34m)\u001b[0m \u001b[0;32mfor\u001b[0m \u001b[0mscore\u001b[0m \u001b[0;32min\u001b[0m \u001b[0mscore_values\u001b[0m\u001b[0;34m)\u001b[0m\u001b[0;34m\u001b[0m\u001b[0;34m\u001b[0m\u001b[0m\n\u001b[1;32m     88\u001b[0m         \u001b[0mscore_values\u001b[0m \u001b[0;34m=\u001b[0m \u001b[0mlist\u001b[0m\u001b[0;34m(\u001b[0m\u001b[0mscore_values\u001b[0m\u001b[0;34m)\u001b[0m\u001b[0;34m\u001b[0m\u001b[0;34m\u001b[0m\u001b[0m\n",
      "\u001b[0;32m<ipython-input-21-98dfd31dbad7>\u001b[0m in \u001b[0;36mloss\u001b[0;34m(output)\u001b[0m\n\u001b[1;32m      9\u001b[0m \u001b[0;34m\u001b[0m\u001b[0m\n\u001b[1;32m     10\u001b[0m \u001b[0;32mdef\u001b[0m \u001b[0mloss\u001b[0m\u001b[0;34m(\u001b[0m\u001b[0moutput\u001b[0m\u001b[0;34m)\u001b[0m\u001b[0;34m:\u001b[0m\u001b[0;34m\u001b[0m\u001b[0;34m\u001b[0m\u001b[0m\n\u001b[0;32m---> 11\u001b[0;31m   \u001b[0;32mreturn\u001b[0m \u001b[0;34m(\u001b[0m\u001b[0moutput\u001b[0m\u001b[0;34m[\u001b[0m\u001b[0;36m0\u001b[0m\u001b[0;34m,\u001b[0m \u001b[0;36m0\u001b[0m\u001b[0;34m]\u001b[0m\u001b[0;34m,\u001b[0m \u001b[0moutput\u001b[0m\u001b[0;34m[\u001b[0m\u001b[0;36m1\u001b[0m\u001b[0;34m,\u001b[0m \u001b[0;36m1\u001b[0m\u001b[0;34m]\u001b[0m\u001b[0;34m,\u001b[0m \u001b[0moutput\u001b[0m\u001b[0;34m[\u001b[0m\u001b[0;36m2\u001b[0m\u001b[0;34m,\u001b[0m \u001b[0;36m2\u001b[0m\u001b[0;34m]\u001b[0m\u001b[0;34m,\u001b[0m \u001b[0moutput\u001b[0m\u001b[0;34m[\u001b[0m\u001b[0;36m3\u001b[0m\u001b[0;34m,\u001b[0m \u001b[0;36m3\u001b[0m\u001b[0;34m]\u001b[0m\u001b[0;34m,\u001b[0m \u001b[0moutput\u001b[0m\u001b[0;34m[\u001b[0m\u001b[0;36m4\u001b[0m\u001b[0;34m,\u001b[0m \u001b[0;36m4\u001b[0m\u001b[0;34m]\u001b[0m\u001b[0;34m,\u001b[0m \u001b[0moutput\u001b[0m\u001b[0;34m[\u001b[0m\u001b[0;36m5\u001b[0m\u001b[0;34m,\u001b[0m \u001b[0;36m5\u001b[0m\u001b[0;34m]\u001b[0m\u001b[0;34m,\u001b[0m \u001b[0moutput\u001b[0m\u001b[0;34m[\u001b[0m\u001b[0;36m6\u001b[0m\u001b[0;34m,\u001b[0m \u001b[0;36m6\u001b[0m\u001b[0;34m]\u001b[0m\u001b[0;34m,\u001b[0m \u001b[0moutput\u001b[0m\u001b[0;34m[\u001b[0m\u001b[0;36m7\u001b[0m\u001b[0;34m,\u001b[0m \u001b[0;36m7\u001b[0m\u001b[0;34m]\u001b[0m\u001b[0;34m,\u001b[0m \u001b[0moutput\u001b[0m\u001b[0;34m[\u001b[0m\u001b[0;36m8\u001b[0m\u001b[0;34m,\u001b[0m \u001b[0;36m8\u001b[0m\u001b[0;34m]\u001b[0m\u001b[0;34m,\u001b[0m \u001b[0moutput\u001b[0m\u001b[0;34m[\u001b[0m\u001b[0;36m9\u001b[0m\u001b[0;34m,\u001b[0m \u001b[0;36m9\u001b[0m\u001b[0;34m]\u001b[0m\u001b[0;34m)\u001b[0m\u001b[0;34m\u001b[0m\u001b[0;34m\u001b[0m\u001b[0m\n\u001b[0m\u001b[1;32m     12\u001b[0m \u001b[0;34m\u001b[0m\u001b[0m\n\u001b[1;32m     13\u001b[0m \u001b[0;32mdef\u001b[0m \u001b[0mmodel_modifier\u001b[0m\u001b[0;34m(\u001b[0m\u001b[0mm\u001b[0m\u001b[0;34m)\u001b[0m\u001b[0;34m:\u001b[0m\u001b[0;34m\u001b[0m\u001b[0;34m\u001b[0m\u001b[0m\n",
      "\u001b[0;32m~/opt/anaconda3/lib/python3.8/site-packages/tensorflow/python/util/dispatch.py\u001b[0m in \u001b[0;36mwrapper\u001b[0;34m(*args, **kwargs)\u001b[0m\n\u001b[1;32m    204\u001b[0m     \u001b[0;34m\"\"\"Call target, and fall back on dispatchers if there is a TypeError.\"\"\"\u001b[0m\u001b[0;34m\u001b[0m\u001b[0;34m\u001b[0m\u001b[0m\n\u001b[1;32m    205\u001b[0m     \u001b[0;32mtry\u001b[0m\u001b[0;34m:\u001b[0m\u001b[0;34m\u001b[0m\u001b[0;34m\u001b[0m\u001b[0m\n\u001b[0;32m--> 206\u001b[0;31m       \u001b[0;32mreturn\u001b[0m \u001b[0mtarget\u001b[0m\u001b[0;34m(\u001b[0m\u001b[0;34m*\u001b[0m\u001b[0margs\u001b[0m\u001b[0;34m,\u001b[0m \u001b[0;34m**\u001b[0m\u001b[0mkwargs\u001b[0m\u001b[0;34m)\u001b[0m\u001b[0;34m\u001b[0m\u001b[0;34m\u001b[0m\u001b[0m\n\u001b[0m\u001b[1;32m    207\u001b[0m     \u001b[0;32mexcept\u001b[0m \u001b[0;34m(\u001b[0m\u001b[0mTypeError\u001b[0m\u001b[0;34m,\u001b[0m \u001b[0mValueError\u001b[0m\u001b[0;34m)\u001b[0m\u001b[0;34m:\u001b[0m\u001b[0;34m\u001b[0m\u001b[0;34m\u001b[0m\u001b[0m\n\u001b[1;32m    208\u001b[0m       \u001b[0;31m# Note: convert_to_eager_tensor currently raises a ValueError, not a\u001b[0m\u001b[0;34m\u001b[0m\u001b[0;34m\u001b[0m\u001b[0;34m\u001b[0m\u001b[0m\n",
      "\u001b[0;32m~/opt/anaconda3/lib/python3.8/site-packages/tensorflow/python/ops/array_ops.py\u001b[0m in \u001b[0;36m_slice_helper\u001b[0;34m(tensor, slice_spec, var)\u001b[0m\n\u001b[1;32m   1039\u001b[0m       \u001b[0mvar_empty\u001b[0m \u001b[0;34m=\u001b[0m \u001b[0mconstant\u001b[0m\u001b[0;34m(\u001b[0m\u001b[0;34m[\u001b[0m\u001b[0;34m]\u001b[0m\u001b[0;34m,\u001b[0m \u001b[0mdtype\u001b[0m\u001b[0;34m=\u001b[0m\u001b[0mdtypes\u001b[0m\u001b[0;34m.\u001b[0m\u001b[0mint32\u001b[0m\u001b[0;34m)\u001b[0m\u001b[0;34m\u001b[0m\u001b[0;34m\u001b[0m\u001b[0m\n\u001b[1;32m   1040\u001b[0m       \u001b[0mpacked_begin\u001b[0m \u001b[0;34m=\u001b[0m \u001b[0mpacked_end\u001b[0m \u001b[0;34m=\u001b[0m \u001b[0mpacked_strides\u001b[0m \u001b[0;34m=\u001b[0m \u001b[0mvar_empty\u001b[0m\u001b[0;34m\u001b[0m\u001b[0;34m\u001b[0m\u001b[0m\n\u001b[0;32m-> 1041\u001b[0;31m     return strided_slice(\n\u001b[0m\u001b[1;32m   1042\u001b[0m         \u001b[0mtensor\u001b[0m\u001b[0;34m,\u001b[0m\u001b[0;34m\u001b[0m\u001b[0;34m\u001b[0m\u001b[0m\n\u001b[1;32m   1043\u001b[0m         \u001b[0mpacked_begin\u001b[0m\u001b[0;34m,\u001b[0m\u001b[0;34m\u001b[0m\u001b[0;34m\u001b[0m\u001b[0m\n",
      "\u001b[0;32m~/opt/anaconda3/lib/python3.8/site-packages/tensorflow/python/util/dispatch.py\u001b[0m in \u001b[0;36mwrapper\u001b[0;34m(*args, **kwargs)\u001b[0m\n\u001b[1;32m    204\u001b[0m     \u001b[0;34m\"\"\"Call target, and fall back on dispatchers if there is a TypeError.\"\"\"\u001b[0m\u001b[0;34m\u001b[0m\u001b[0;34m\u001b[0m\u001b[0m\n\u001b[1;32m    205\u001b[0m     \u001b[0;32mtry\u001b[0m\u001b[0;34m:\u001b[0m\u001b[0;34m\u001b[0m\u001b[0;34m\u001b[0m\u001b[0m\n\u001b[0;32m--> 206\u001b[0;31m       \u001b[0;32mreturn\u001b[0m \u001b[0mtarget\u001b[0m\u001b[0;34m(\u001b[0m\u001b[0;34m*\u001b[0m\u001b[0margs\u001b[0m\u001b[0;34m,\u001b[0m \u001b[0;34m**\u001b[0m\u001b[0mkwargs\u001b[0m\u001b[0;34m)\u001b[0m\u001b[0;34m\u001b[0m\u001b[0;34m\u001b[0m\u001b[0m\n\u001b[0m\u001b[1;32m    207\u001b[0m     \u001b[0;32mexcept\u001b[0m \u001b[0;34m(\u001b[0m\u001b[0mTypeError\u001b[0m\u001b[0;34m,\u001b[0m \u001b[0mValueError\u001b[0m\u001b[0;34m)\u001b[0m\u001b[0;34m:\u001b[0m\u001b[0;34m\u001b[0m\u001b[0;34m\u001b[0m\u001b[0m\n\u001b[1;32m    208\u001b[0m       \u001b[0;31m# Note: convert_to_eager_tensor currently raises a ValueError, not a\u001b[0m\u001b[0;34m\u001b[0m\u001b[0;34m\u001b[0m\u001b[0;34m\u001b[0m\u001b[0m\n",
      "\u001b[0;32m~/opt/anaconda3/lib/python3.8/site-packages/tensorflow/python/ops/array_ops.py\u001b[0m in \u001b[0;36mstrided_slice\u001b[0;34m(input_, begin, end, strides, begin_mask, end_mask, ellipsis_mask, new_axis_mask, shrink_axis_mask, var, name)\u001b[0m\n\u001b[1;32m   1212\u001b[0m     \u001b[0mstrides\u001b[0m \u001b[0;34m=\u001b[0m \u001b[0mones_like\u001b[0m\u001b[0;34m(\u001b[0m\u001b[0mbegin\u001b[0m\u001b[0;34m)\u001b[0m\u001b[0;34m\u001b[0m\u001b[0;34m\u001b[0m\u001b[0m\n\u001b[1;32m   1213\u001b[0m \u001b[0;34m\u001b[0m\u001b[0m\n\u001b[0;32m-> 1214\u001b[0;31m   op = gen_array_ops.strided_slice(\n\u001b[0m\u001b[1;32m   1215\u001b[0m       \u001b[0minput\u001b[0m\u001b[0;34m=\u001b[0m\u001b[0minput_\u001b[0m\u001b[0;34m,\u001b[0m\u001b[0;34m\u001b[0m\u001b[0;34m\u001b[0m\u001b[0m\n\u001b[1;32m   1216\u001b[0m       \u001b[0mbegin\u001b[0m\u001b[0;34m=\u001b[0m\u001b[0mbegin\u001b[0m\u001b[0;34m,\u001b[0m\u001b[0;34m\u001b[0m\u001b[0;34m\u001b[0m\u001b[0m\n",
      "\u001b[0;32m~/opt/anaconda3/lib/python3.8/site-packages/tensorflow/python/ops/gen_array_ops.py\u001b[0m in \u001b[0;36mstrided_slice\u001b[0;34m(input, begin, end, strides, begin_mask, end_mask, ellipsis_mask, new_axis_mask, shrink_axis_mask, name)\u001b[0m\n\u001b[1;32m  10509\u001b[0m       \u001b[0;32mreturn\u001b[0m \u001b[0m_result\u001b[0m\u001b[0;34m\u001b[0m\u001b[0;34m\u001b[0m\u001b[0m\n\u001b[1;32m  10510\u001b[0m     \u001b[0;32mexcept\u001b[0m \u001b[0m_core\u001b[0m\u001b[0;34m.\u001b[0m\u001b[0m_NotOkStatusException\u001b[0m \u001b[0;32mas\u001b[0m \u001b[0me\u001b[0m\u001b[0;34m:\u001b[0m\u001b[0;34m\u001b[0m\u001b[0;34m\u001b[0m\u001b[0m\n\u001b[0;32m> 10511\u001b[0;31m       \u001b[0m_ops\u001b[0m\u001b[0;34m.\u001b[0m\u001b[0mraise_from_not_ok_status\u001b[0m\u001b[0;34m(\u001b[0m\u001b[0me\u001b[0m\u001b[0;34m,\u001b[0m \u001b[0mname\u001b[0m\u001b[0;34m)\u001b[0m\u001b[0;34m\u001b[0m\u001b[0;34m\u001b[0m\u001b[0m\n\u001b[0m\u001b[1;32m  10512\u001b[0m     \u001b[0;32mexcept\u001b[0m \u001b[0m_core\u001b[0m\u001b[0;34m.\u001b[0m\u001b[0m_FallbackException\u001b[0m\u001b[0;34m:\u001b[0m\u001b[0;34m\u001b[0m\u001b[0;34m\u001b[0m\u001b[0m\n\u001b[1;32m  10513\u001b[0m       \u001b[0;32mpass\u001b[0m\u001b[0;34m\u001b[0m\u001b[0;34m\u001b[0m\u001b[0m\n",
      "\u001b[0;32m~/opt/anaconda3/lib/python3.8/site-packages/tensorflow/python/framework/ops.py\u001b[0m in \u001b[0;36mraise_from_not_ok_status\u001b[0;34m(e, name)\u001b[0m\n\u001b[1;32m   6939\u001b[0m   \u001b[0mmessage\u001b[0m \u001b[0;34m=\u001b[0m \u001b[0me\u001b[0m\u001b[0;34m.\u001b[0m\u001b[0mmessage\u001b[0m \u001b[0;34m+\u001b[0m \u001b[0;34m(\u001b[0m\u001b[0;34m\" name: \"\u001b[0m \u001b[0;34m+\u001b[0m \u001b[0mname\u001b[0m \u001b[0;32mif\u001b[0m \u001b[0mname\u001b[0m \u001b[0;32mis\u001b[0m \u001b[0;32mnot\u001b[0m \u001b[0;32mNone\u001b[0m \u001b[0;32melse\u001b[0m \u001b[0;34m\"\"\u001b[0m\u001b[0;34m)\u001b[0m\u001b[0;34m\u001b[0m\u001b[0;34m\u001b[0m\u001b[0m\n\u001b[1;32m   6940\u001b[0m   \u001b[0;31m# pylint: disable=protected-access\u001b[0m\u001b[0;34m\u001b[0m\u001b[0;34m\u001b[0m\u001b[0;34m\u001b[0m\u001b[0m\n\u001b[0;32m-> 6941\u001b[0;31m   \u001b[0msix\u001b[0m\u001b[0;34m.\u001b[0m\u001b[0mraise_from\u001b[0m\u001b[0;34m(\u001b[0m\u001b[0mcore\u001b[0m\u001b[0;34m.\u001b[0m\u001b[0m_status_to_exception\u001b[0m\u001b[0;34m(\u001b[0m\u001b[0me\u001b[0m\u001b[0;34m.\u001b[0m\u001b[0mcode\u001b[0m\u001b[0;34m,\u001b[0m \u001b[0mmessage\u001b[0m\u001b[0;34m)\u001b[0m\u001b[0;34m,\u001b[0m \u001b[0;32mNone\u001b[0m\u001b[0;34m)\u001b[0m\u001b[0;34m\u001b[0m\u001b[0;34m\u001b[0m\u001b[0m\n\u001b[0m\u001b[1;32m   6942\u001b[0m   \u001b[0;31m# pylint: enable=protected-access\u001b[0m\u001b[0;34m\u001b[0m\u001b[0;34m\u001b[0m\u001b[0;34m\u001b[0m\u001b[0m\n\u001b[1;32m   6943\u001b[0m \u001b[0;34m\u001b[0m\u001b[0m\n",
      "\u001b[0;32m~/opt/anaconda3/lib/python3.8/site-packages/six.py\u001b[0m in \u001b[0;36mraise_from\u001b[0;34m(value, from_value)\u001b[0m\n",
      "\u001b[0;31mInvalidArgumentError\u001b[0m: slice index 1 of dimension 1 out of bounds. [Op:StridedSlice] name: strided_slice/"
     ]
    }
   ],
   "source": [
    "# Initialize Activation Maximization\n",
    "visualize_activation = ActivationMaximization(model, model_modifier)\n",
    "\n",
    "# Generate a random seed for each activation\n",
    "seed_input = uniform((16, 150, 150, 1), 0, 255)\n",
    "\n",
    "# Generate activations and convert into images\n",
    "activations = visualize_activation(loss, seed_input=seed_input, steps=512)\n",
    "print(activations[0])\n",
    "images = [activation.astype(np.float32) for activation in activations]\n",
    "\n",
    "# Visualize each image\n",
    "for i in range(0, len(images)):\n",
    "    visualization = images[i].reshape(28,28)\n",
    "    plt.imshow(visualization)\n",
    "    plt.title(f'MNIST target = {i}')\n",
    "    plt.show()"
   ]
  },
  {
   "cell_type": "markdown",
   "metadata": {},
   "source": [
    "#### Saliency maps\n",
    "\n",
    "See this [tutorial](https://www.machinecurve.com/index.php/2019/11/25/visualizing-keras-cnn-attention-saliency-maps/) to test it."
   ]
  },
  {
   "cell_type": "code",
   "execution_count": null,
   "metadata": {},
   "outputs": [],
   "source": [
    "# TO DO\n",
    "# Saliency maps on your models."
   ]
  },
  {
   "cell_type": "markdown",
   "metadata": {},
   "source": [
    "If you are interested to go deeper, a very nice tutorial is available [here](https://interpretablevision.github.io/)"
   ]
  },
  {
   "cell_type": "markdown",
   "metadata": {},
   "source": [
    "# Part 4 : Your turn on a more challenging case\n",
    "\n",
    "Do the same job but this time on the PET Dataset : [http://www.robots.ox.ac.uk/~vgg/data/pets/](http://www.robots.ox.ac.uk/~vgg/data/pets/) which contains 37 category of pets with roughly 200 images for each class."
   ]
  },
  {
   "cell_type": "markdown",
   "metadata": {},
   "source": [
    "# Sources and references\n",
    "\n",
    "+ This study case is inpired from the Lesson 1 of the fast.ai's online course, Practical Deep Learning For Coders : [http://course.fast.ai/](http://course.fast.ai/)\n",
    "+ Others sources :\n",
    "    + Stanford CS231n course on Convolutional Neural Networks for Visual Recognition : [http://cs231n.stanford.edu/](http://cs231n.stanford.edu/)\n",
    "    + Keras blog post on building image classification models [here](https://blog.keras.io/building-powerful-image-classification-models-using-very-little-data.html)"
   ]
  },
  {
   "cell_type": "code",
   "execution_count": null,
   "metadata": {},
   "outputs": [],
   "source": []
  },
  {
   "cell_type": "code",
   "execution_count": 7,
   "metadata": {},
   "outputs": [
    {
     "name": "stdout",
     "output_type": "stream",
     "text": [
      "7393\n"
     ]
    }
   ],
   "source": [
    "dataset_path = 'partQuatre/images/train'\n",
    "list_dos = os.listdir(dataset_path)\n",
    "list_paths = []\n",
    "list_classes=[]\n",
    "\n",
    "for dos in list_dos:\n",
    "    if dos != '.DS_Store':\n",
    "        sous_list_paths = os.listdir(dataset_path + '/' +dos)\n",
    "        for path in sous_list_paths:\n",
    "            list_paths+=[path]\n",
    "\n",
    "print(len(list_paths))"
   ]
  },
  {
   "cell_type": "code",
   "execution_count": 9,
   "metadata": {},
   "outputs": [
    {
     "name": "stdout",
     "output_type": "stream",
     "text": [
      "7393\n"
     ]
    }
   ],
   "source": [
    "for path in list_paths:\n",
    "    classe=''\n",
    "    for c in path:\n",
    "        if c.isdigit():\n",
    "            classe = classe[:-1]\n",
    "            break\n",
    "        else:\n",
    "            classe+=c\n",
    "    list_classes+=[classe]\n",
    "    \n",
    "print(len(list_classes))"
   ]
  },
  {
   "cell_type": "code",
   "execution_count": 15,
   "metadata": {},
   "outputs": [],
   "source": [
    "paths_train, paths_test, labels_train, labels_test = train_test_split(list_paths, list_classes, test_size=0.3)"
   ]
  },
  {
   "cell_type": "code",
   "execution_count": 17,
   "metadata": {},
   "outputs": [
    {
     "name": "stdout",
     "output_type": "stream",
     "text": [
      "Bengal_169.jpg\n"
     ]
    }
   ],
   "source": [
    "print(paths_test[0])"
   ]
  },
  {
   "cell_type": "code",
   "execution_count": 24,
   "metadata": {},
   "outputs": [],
   "source": [
    "import os\n",
    "import shutil\n",
    "\n",
    "dossiers_t = os.listdir('partQuatre/images/train')\n",
    "dossiers_v = os.listdir('partQuatre/images/valid')\n",
    "\n",
    "for dossier in dossiers_t:\n",
    "    if dossier != '.DS_Store':\n",
    "        images = os.listdir('partQuatre/images/train/'+dossier)\n",
    "        for image in images:\n",
    "            shutil.move('partQuatre/images/train/'+dossier + '/'+ image, 'partQuatre/images/valid/'+dossier + '/'+ image)\n",
    "\n",
    "for dossier in dossiers_v:\n",
    "    if dossier != '.DS_Store':\n",
    "        images = os.listdir('partQuatre/images/valid/'+dossier)\n",
    "        for image in images:\n",
    "            if image in images_v:\n",
    "                shutil.move('partQuatre/images/valid/'+dossier + '/'+ image, 'partQuatre/images/train/'+dossier + '/'+ image)\n"
   ]
  },
  {
   "cell_type": "code",
   "execution_count": 21,
   "metadata": {},
   "outputs": [
    {
     "name": "stdout",
     "output_type": "stream",
     "text": [
      "146\n"
     ]
    }
   ],
   "source": [
    "print(count)"
   ]
  },
  {
   "cell_type": "code",
   "execution_count": 25,
   "metadata": {},
   "outputs": [
    {
     "name": "stdout",
     "output_type": "stream",
     "text": [
      "5175 5175\n",
      "2218 2218\n"
     ]
    }
   ],
   "source": [
    "dossiers_t = os.listdir('partQuatre/images/train')\n",
    "dossiers_v = os.listdir('partQuatre/images/valid')\n",
    "\n",
    "images_t=[]\n",
    "images_v=[]\n",
    "\n",
    "for dossier in dossiers_t:\n",
    "    if dossier != '.DS_Store':\n",
    "        images = os.listdir('partQuatre/images/train/'+dossier)\n",
    "        images_t+=images\n",
    "for dossier in dossiers_v:\n",
    "    if dossier != '.DS_Store':\n",
    "        images = os.listdir('partQuatre/images/valid/'+dossier)\n",
    "        images_v+=images\n",
    "        \n",
    "print(len(images_t), len(paths_train))\n",
    "print(len(images_v), len(paths_test))"
   ]
  },
  {
   "cell_type": "code",
   "execution_count": 28,
   "metadata": {},
   "outputs": [],
   "source": [
    "dossiers_t = os.listdir('partQuatre/images/train')\n",
    "dossiers_v = os.listdir('partQuatre/images/valid')\n",
    "\n",
    "for dossier in dossiers_t:\n",
    "    if dossier == '.DS_Store':\n",
    "        shutil.move('partQuatre/images/train/.DS_Store', 'partQuatre/.DS_Store')\n",
    "for dossier in dossiers_v:\n",
    "    if dossier == '.DS_Store':\n",
    "        shutil.move('partQuatre/images/valid/.DS_Store', 'partQuatre/.DS_Store_bis')"
   ]
  },
  {
   "cell_type": "code",
   "execution_count": 29,
   "metadata": {},
   "outputs": [
    {
     "name": "stdout",
     "output_type": "stream",
     "text": [
      "Found 5172 images belonging to 37 classes.\n",
      "Found 2218 images belonging to 37 classes.\n"
     ]
    }
   ],
   "source": [
    "# without augmentation, only rescaling\n",
    "from keras.preprocessing.image import ImageDataGenerator\n",
    "\n",
    "# definition of the number of samples propagated through the network at each step\n",
    "batch_size = 16\n",
    "\n",
    "# dimensions of our images.\n",
    "img_width, img_height = 150, 150\n",
    "\n",
    "train_data_dir = 'partQuatre/images/train'\n",
    "validation_data_dir = 'partQuatre/images/valid'\n",
    "\n",
    "# create and configure an ImageDataGenerator for the training data with only rescaling to 0..1\n",
    "train_datagen =  ImageDataGenerator(rescale=1./255)\n",
    "\n",
    "train_generator = train_datagen.flow_from_directory(\n",
    "        train_data_dir,  # the target directory\n",
    "        target_size=(img_width, img_height),  # all images will be resized to 150x150\n",
    "        batch_size=batch_size) \n",
    "\n",
    "# create and configure an ImageDataGenerator for the validation data with only rescaling to 0..1\n",
    "test_datagen =  ImageDataGenerator(rescale=1./255)\n",
    "\n",
    "valid_generator = test_datagen.flow_from_directory(\n",
    "        validation_data_dir,  # the target directory\n",
    "        target_size=(img_width, img_height),  # all images will be resized to 150x150\n",
    "        batch_size=batch_size) "
   ]
  },
  {
   "cell_type": "code",
   "execution_count": 34,
   "metadata": {},
   "outputs": [
    {
     "name": "stdout",
     "output_type": "stream",
     "text": [
      "Model: \"sequential_2\"\n",
      "_________________________________________________________________\n",
      "Layer (type)                 Output Shape              Param #   \n",
      "=================================================================\n",
      "conv2d_3 (Conv2D)            (None, 150, 150, 32)      896       \n",
      "_________________________________________________________________\n",
      "max_pooling2d_3 (MaxPooling2 (None, 75, 75, 32)        0         \n",
      "_________________________________________________________________\n",
      "conv2d_4 (Conv2D)            (None, 75, 75, 64)        18496     \n",
      "_________________________________________________________________\n",
      "max_pooling2d_4 (MaxPooling2 (None, 37, 37, 64)        0         \n",
      "_________________________________________________________________\n",
      "conv2d_5 (Conv2D)            (None, 37, 37, 128)       73856     \n",
      "_________________________________________________________________\n",
      "max_pooling2d_5 (MaxPooling2 (None, 18, 18, 128)       0         \n",
      "_________________________________________________________________\n",
      "flatten_1 (Flatten)          (None, 41472)             0         \n",
      "_________________________________________________________________\n",
      "dense_3 (Dense)              (None, 256)               10617088  \n",
      "_________________________________________________________________\n",
      "dense_4 (Dense)              (None, 512)               131584    \n",
      "_________________________________________________________________\n",
      "dense_5 (Dense)              (None, 1)                 513       \n",
      "_________________________________________________________________\n",
      "activation_1 (Activation)    (None, 1)                 0         \n",
      "=================================================================\n",
      "Total params: 10,842,433\n",
      "Trainable params: 10,842,433\n",
      "Non-trainable params: 0\n",
      "_________________________________________________________________\n"
     ]
    }
   ],
   "source": [
    "from keras import applications\n",
    "from keras.backend import set_image_data_format\n",
    "from keras.preprocessing.image import ImageDataGenerator\n",
    "from keras import optimizers\n",
    "from keras.models import Sequential\n",
    "from keras.layers import Dropout, Flatten, Dense\n",
    "import keras\n",
    "\n",
    "\n",
    "model = Sequential()\n",
    "\n",
    "# First convolutional layer\n",
    "model.add(Conv2D(filters=32, kernel_size = (3,3), padding = 'same', activation='relu', input_shape = (150,150,3)))\n",
    "model.add(MaxPooling2D(pool_size = (2,2), strides=2))\n",
    "\n",
    "# 2nd conv layer\n",
    "model.add(Conv2D(filters=64, kernel_size = (3,3), padding = 'same', activation='relu'))\n",
    "model.add(MaxPooling2D(pool_size = (2,2), strides=2))\n",
    "\n",
    "# 3rd conv layer\n",
    "model.add(Conv2D(filters=128, kernel_size = (3,3), padding = 'same', activation='relu'))\n",
    "model.add(MaxPooling2D(pool_size = (2,2), strides=2))\n",
    "model.add(Flatten())\n",
    "model.add(Dense(256, activation=\"relu\"))\n",
    "model.add(Dense(512, activation=\"relu\"))\n",
    "\n",
    "# single unit and sigmoid activation, which is perfect for a binary classification. \n",
    "\n",
    "model.add(Dense(1))\n",
    "model.add(Activation('sigmoid'))\n",
    "\n",
    "# Use of the binary_crossentropy loss to train our model, of the rmsprop optimizer and the accuracy metrics\n",
    "optimiser = RMSprop(learning_rate=0.001)\n",
    "model.compile(optimizer=optimiser, loss=\"binary_crossentropy\", metrics=['accuracy'])\n",
    "\n",
    "model.summary()"
   ]
  },
  {
   "cell_type": "code",
   "execution_count": 36,
   "metadata": {},
   "outputs": [
    {
     "name": "stdout",
     "output_type": "stream",
     "text": [
      "324/324 [==============================] - 202s 618ms/step - loss: 0.1373 - accuracy: 0.9700 - val_loss: 0.1260 - val_accuracy: 0.9730\n"
     ]
    }
   ],
   "source": [
    "# model training\n",
    "model.fit(x=train_generator, batch_size=batch_size, validation_data=valid_generator)\n",
    "\n",
    "# saving the learned model\n",
    "model.save_weights('partQuatre/weights.h5')"
   ]
  },
  {
   "cell_type": "code",
   "execution_count": null,
   "metadata": {},
   "outputs": [],
   "source": []
  }
 ],
 "metadata": {
  "kernelspec": {
   "display_name": "Python 3.8.5 ('base')",
   "language": "python",
   "name": "python3"
  },
  "language_info": {
   "codemirror_mode": {
    "name": "ipython",
    "version": 3
   },
   "file_extension": ".py",
   "mimetype": "text/x-python",
   "name": "python",
   "nbconvert_exporter": "python",
   "pygments_lexer": "ipython3",
   "version": "3.8.5"
  },
  "vscode": {
   "interpreter": {
    "hash": "49f61080788df8954771f959588fd054eeb468df10a0a0218eff7c0eda40baf9"
   }
  }
 },
 "nbformat": 4,
 "nbformat_minor": 2
}
